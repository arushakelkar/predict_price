{
 "cells": [
  {
   "cell_type": "markdown",
   "metadata": {},
   "source": [
    "# Predicting price of a used vehicle using machine learning models"
   ]
  },
  {
   "cell_type": "code",
   "execution_count": 1,
   "metadata": {},
   "outputs": [],
   "source": [
    "import pandas as pd\n",
    "import numpy as np\n",
    "import matplotlib.pyplot as plt"
   ]
  },
  {
   "cell_type": "code",
   "execution_count": 188,
   "metadata": {},
   "outputs": [
    {
     "data": {
      "text/html": [
       "<div>\n",
       "<style scoped>\n",
       "    .dataframe tbody tr th:only-of-type {\n",
       "        vertical-align: middle;\n",
       "    }\n",
       "\n",
       "    .dataframe tbody tr th {\n",
       "        vertical-align: top;\n",
       "    }\n",
       "\n",
       "    .dataframe thead th {\n",
       "        text-align: right;\n",
       "    }\n",
       "</style>\n",
       "<table border=\"1\" class=\"dataframe\">\n",
       "  <thead>\n",
       "    <tr style=\"text-align: right;\">\n",
       "      <th></th>\n",
       "      <th>id</th>\n",
       "      <th>url</th>\n",
       "      <th>region</th>\n",
       "      <th>region_url</th>\n",
       "      <th>price</th>\n",
       "      <th>year</th>\n",
       "      <th>manufacturer</th>\n",
       "      <th>model</th>\n",
       "      <th>condition</th>\n",
       "      <th>cylinders</th>\n",
       "      <th>...</th>\n",
       "      <th>drive</th>\n",
       "      <th>size</th>\n",
       "      <th>type</th>\n",
       "      <th>paint_color</th>\n",
       "      <th>image_url</th>\n",
       "      <th>description</th>\n",
       "      <th>county</th>\n",
       "      <th>state</th>\n",
       "      <th>lat</th>\n",
       "      <th>long</th>\n",
       "    </tr>\n",
       "  </thead>\n",
       "  <tbody>\n",
       "    <tr>\n",
       "      <th>0</th>\n",
       "      <td>7034441763</td>\n",
       "      <td>https://saltlakecity.craigslist.org/cto/d/salt...</td>\n",
       "      <td>salt lake city</td>\n",
       "      <td>https://saltlakecity.craigslist.org</td>\n",
       "      <td>17899</td>\n",
       "      <td>2012.0</td>\n",
       "      <td>volkswagen</td>\n",
       "      <td>golf r</td>\n",
       "      <td>excellent</td>\n",
       "      <td>4 cylinders</td>\n",
       "      <td>...</td>\n",
       "      <td>4wd</td>\n",
       "      <td>compact</td>\n",
       "      <td>hatchback</td>\n",
       "      <td>black</td>\n",
       "      <td>https://images.craigslist.org/00G0G_fTLDWM5Xyv...</td>\n",
       "      <td>PRICE REDUCED!   -Garage kept -Low Miles (63K)...</td>\n",
       "      <td>NaN</td>\n",
       "      <td>ut</td>\n",
       "      <td>40.7372</td>\n",
       "      <td>-111.858</td>\n",
       "    </tr>\n",
       "    <tr>\n",
       "      <th>1</th>\n",
       "      <td>7034440610</td>\n",
       "      <td>https://saltlakecity.craigslist.org/ctd/d/sand...</td>\n",
       "      <td>salt lake city</td>\n",
       "      <td>https://saltlakecity.craigslist.org</td>\n",
       "      <td>0</td>\n",
       "      <td>2016.0</td>\n",
       "      <td>ford</td>\n",
       "      <td>f-150</td>\n",
       "      <td>excellent</td>\n",
       "      <td>NaN</td>\n",
       "      <td>...</td>\n",
       "      <td>4wd</td>\n",
       "      <td>NaN</td>\n",
       "      <td>NaN</td>\n",
       "      <td>NaN</td>\n",
       "      <td>https://images.craigslist.org/00v0v_7Cu0buIofU...</td>\n",
       "      <td>Drive it home today. Call (Or Text) us now !!C...</td>\n",
       "      <td>NaN</td>\n",
       "      <td>ut</td>\n",
       "      <td>40.5881</td>\n",
       "      <td>-111.884</td>\n",
       "    </tr>\n",
       "    <tr>\n",
       "      <th>2</th>\n",
       "      <td>7034440588</td>\n",
       "      <td>https://saltlakecity.craigslist.org/ctd/d/sand...</td>\n",
       "      <td>salt lake city</td>\n",
       "      <td>https://saltlakecity.craigslist.org</td>\n",
       "      <td>46463</td>\n",
       "      <td>2015.0</td>\n",
       "      <td>gmc</td>\n",
       "      <td>sierra 1500</td>\n",
       "      <td>excellent</td>\n",
       "      <td>NaN</td>\n",
       "      <td>...</td>\n",
       "      <td>4wd</td>\n",
       "      <td>NaN</td>\n",
       "      <td>NaN</td>\n",
       "      <td>white</td>\n",
       "      <td>https://images.craigslist.org/01515_lPvJ9bfbdY...</td>\n",
       "      <td>Drive it home today. Call (Or Text) us now !!C...</td>\n",
       "      <td>NaN</td>\n",
       "      <td>ut</td>\n",
       "      <td>40.5881</td>\n",
       "      <td>-111.884</td>\n",
       "    </tr>\n",
       "    <tr>\n",
       "      <th>3</th>\n",
       "      <td>7034440546</td>\n",
       "      <td>https://saltlakecity.craigslist.org/ctd/d/sand...</td>\n",
       "      <td>salt lake city</td>\n",
       "      <td>https://saltlakecity.craigslist.org</td>\n",
       "      <td>0</td>\n",
       "      <td>2016.0</td>\n",
       "      <td>ford</td>\n",
       "      <td>f-150</td>\n",
       "      <td>excellent</td>\n",
       "      <td>NaN</td>\n",
       "      <td>...</td>\n",
       "      <td>4wd</td>\n",
       "      <td>NaN</td>\n",
       "      <td>NaN</td>\n",
       "      <td>NaN</td>\n",
       "      <td>https://images.craigslist.org/00T0T_6Rjfp3NS4O...</td>\n",
       "      <td>Drive it home today. Call (Or Text) us now !!C...</td>\n",
       "      <td>NaN</td>\n",
       "      <td>ut</td>\n",
       "      <td>40.5881</td>\n",
       "      <td>-111.884</td>\n",
       "    </tr>\n",
       "    <tr>\n",
       "      <th>4</th>\n",
       "      <td>7034406932</td>\n",
       "      <td>https://saltlakecity.craigslist.org/ctd/d/evan...</td>\n",
       "      <td>salt lake city</td>\n",
       "      <td>https://saltlakecity.craigslist.org</td>\n",
       "      <td>49999</td>\n",
       "      <td>2018.0</td>\n",
       "      <td>ford</td>\n",
       "      <td>f-450</td>\n",
       "      <td>NaN</td>\n",
       "      <td>NaN</td>\n",
       "      <td>...</td>\n",
       "      <td>4wd</td>\n",
       "      <td>NaN</td>\n",
       "      <td>pickup</td>\n",
       "      <td>white</td>\n",
       "      <td>https://images.craigslist.org/00W0W_8yIUwRBXXd...</td>\n",
       "      <td>2018 Ford F-350 F350 F 350 SD Lariat Crew Cab ...</td>\n",
       "      <td>NaN</td>\n",
       "      <td>ut</td>\n",
       "      <td>40.3744</td>\n",
       "      <td>-104.694</td>\n",
       "    </tr>\n",
       "  </tbody>\n",
       "</table>\n",
       "<p>5 rows × 25 columns</p>\n",
       "</div>"
      ],
      "text/plain": [
       "           id                                                url  \\\n",
       "0  7034441763  https://saltlakecity.craigslist.org/cto/d/salt...   \n",
       "1  7034440610  https://saltlakecity.craigslist.org/ctd/d/sand...   \n",
       "2  7034440588  https://saltlakecity.craigslist.org/ctd/d/sand...   \n",
       "3  7034440546  https://saltlakecity.craigslist.org/ctd/d/sand...   \n",
       "4  7034406932  https://saltlakecity.craigslist.org/ctd/d/evan...   \n",
       "\n",
       "           region                           region_url  price    year  \\\n",
       "0  salt lake city  https://saltlakecity.craigslist.org  17899  2012.0   \n",
       "1  salt lake city  https://saltlakecity.craigslist.org      0  2016.0   \n",
       "2  salt lake city  https://saltlakecity.craigslist.org  46463  2015.0   \n",
       "3  salt lake city  https://saltlakecity.craigslist.org      0  2016.0   \n",
       "4  salt lake city  https://saltlakecity.craigslist.org  49999  2018.0   \n",
       "\n",
       "  manufacturer        model  condition    cylinders  ... drive     size  \\\n",
       "0   volkswagen       golf r  excellent  4 cylinders  ...   4wd  compact   \n",
       "1         ford        f-150  excellent          NaN  ...   4wd      NaN   \n",
       "2          gmc  sierra 1500  excellent          NaN  ...   4wd      NaN   \n",
       "3         ford        f-150  excellent          NaN  ...   4wd      NaN   \n",
       "4         ford        f-450        NaN          NaN  ...   4wd      NaN   \n",
       "\n",
       "        type paint_color                                          image_url  \\\n",
       "0  hatchback       black  https://images.craigslist.org/00G0G_fTLDWM5Xyv...   \n",
       "1        NaN         NaN  https://images.craigslist.org/00v0v_7Cu0buIofU...   \n",
       "2        NaN       white  https://images.craigslist.org/01515_lPvJ9bfbdY...   \n",
       "3        NaN         NaN  https://images.craigslist.org/00T0T_6Rjfp3NS4O...   \n",
       "4     pickup       white  https://images.craigslist.org/00W0W_8yIUwRBXXd...   \n",
       "\n",
       "                                         description county state      lat  \\\n",
       "0  PRICE REDUCED!   -Garage kept -Low Miles (63K)...    NaN    ut  40.7372   \n",
       "1  Drive it home today. Call (Or Text) us now !!C...    NaN    ut  40.5881   \n",
       "2  Drive it home today. Call (Or Text) us now !!C...    NaN    ut  40.5881   \n",
       "3  Drive it home today. Call (Or Text) us now !!C...    NaN    ut  40.5881   \n",
       "4  2018 Ford F-350 F350 F 350 SD Lariat Crew Cab ...    NaN    ut  40.3744   \n",
       "\n",
       "      long  \n",
       "0 -111.858  \n",
       "1 -111.884  \n",
       "2 -111.884  \n",
       "3 -111.884  \n",
       "4 -104.694  \n",
       "\n",
       "[5 rows x 25 columns]"
      ]
     },
     "execution_count": 188,
     "metadata": {},
     "output_type": "execute_result"
    }
   ],
   "source": [
    "df=pd.read_csv(\"C:\\\\Users\\\\user\\\\Downloads\\\\vehicles.csv\")\n",
    "df.head()"
   ]
  },
  {
   "cell_type": "code",
   "execution_count": 189,
   "metadata": {},
   "outputs": [
    {
     "data": {
      "text/plain": [
       "509577"
      ]
     },
     "execution_count": 189,
     "metadata": {},
     "output_type": "execute_result"
    }
   ],
   "source": [
    "len(df)"
   ]
  },
  {
   "cell_type": "markdown",
   "metadata": {},
   "source": [
    "# TASK 1"
   ]
  },
  {
   "cell_type": "code",
   "execution_count": 5,
   "metadata": {},
   "outputs": [
    {
     "data": {
      "text/plain": [
       "Index(['id', 'url', 'region', 'region_url', 'price', 'year', 'manufacturer',\n",
       "       'model', 'condition', 'cylinders', 'fuel', 'odometer', 'title_status',\n",
       "       'transmission', 'vin', 'drive', 'size', 'type', 'paint_color',\n",
       "       'image_url', 'description', 'county', 'state', 'lat', 'long'],\n",
       "      dtype='object')"
      ]
     },
     "execution_count": 5,
     "metadata": {},
     "output_type": "execute_result"
    }
   ],
   "source": [
    "df.columns"
   ]
  },
  {
   "cell_type": "markdown",
   "metadata": {},
   "source": [
    "removing duplicates as there can be multiple postings for a single vehicle"
   ]
  },
  {
   "cell_type": "code",
   "execution_count": 190,
   "metadata": {},
   "outputs": [
    {
     "data": {
      "text/plain": [
       "473963"
      ]
     },
     "execution_count": 190,
     "metadata": {},
     "output_type": "execute_result"
    }
   ],
   "source": [
    "df=df.drop_duplicates(['region', 'region_url', 'price', 'year', 'manufacturer',\n",
    "       'model', 'condition', 'cylinders', 'fuel', 'odometer', 'title_status',\n",
    "       'transmission', 'vin', 'drive', 'size', 'type', 'paint_color',\n",
    "       'image_url', 'description', 'county', 'state', 'lat', 'long'])\n",
    "len(df)"
   ]
  },
  {
   "cell_type": "markdown",
   "metadata": {},
   "source": [
    "Removing url columns as the main information has been put in a different column. Removing price variable as it is the target variable."
   ]
  },
  {
   "cell_type": "code",
   "execution_count": 191,
   "metadata": {},
   "outputs": [],
   "source": [
    "x=df.drop(['url','region_url','image_url','price'], 1)"
   ]
  },
  {
   "cell_type": "markdown",
   "metadata": {},
   "source": [
    "Price is the target variable and hence storing it in y"
   ]
  },
  {
   "cell_type": "code",
   "execution_count": 192,
   "metadata": {},
   "outputs": [],
   "source": [
    "y=df['price']"
   ]
  },
  {
   "cell_type": "markdown",
   "metadata": {},
   "source": [
    "computing missing values to further check if all the features can be used"
   ]
  },
  {
   "cell_type": "code",
   "execution_count": 193,
   "metadata": {},
   "outputs": [
    {
     "data": {
      "text/plain": [
       "id                   0\n",
       "region               0\n",
       "year              1266\n",
       "manufacturer     20397\n",
       "model             7322\n",
       "condition       215823\n",
       "cylinders       184687\n",
       "fuel              3524\n",
       "odometer         82617\n",
       "title_status      2732\n",
       "transmission      3714\n",
       "vin             189599\n",
       "drive           131869\n",
       "size            317124\n",
       "type            127960\n",
       "paint_color     150117\n",
       "description         16\n",
       "county          473963\n",
       "state                0\n",
       "lat               9904\n",
       "long              9904\n",
       "dtype: int64"
      ]
     },
     "execution_count": 193,
     "metadata": {},
     "output_type": "execute_result"
    }
   ],
   "source": [
    "missing=pd.isna(x).sum()\n",
    "missing"
   ]
  },
  {
   "cell_type": "code",
   "execution_count": 194,
   "metadata": {},
   "outputs": [
    {
     "data": {
      "text/plain": [
       "<matplotlib.axes._subplots.AxesSubplot at 0x1b8f3f536a0>"
      ]
     },
     "execution_count": 194,
     "metadata": {},
     "output_type": "execute_result"
    },
    {
     "data": {
      "image/png": "[encoded data removed]",
      "text/plain": [
       "<Figure size 1080x504 with 1 Axes>"
      ]
     },
     "metadata": {
      "needs_background": "light"
     },
     "output_type": "display_data"
    }
   ],
   "source": [
    "plt.rcParams[\"figure.figsize\"] = (15,7)\n",
    "missing.plot(kind='bar')"
   ]
  },
  {
   "cell_type": "markdown",
   "metadata": {},
   "source": [
    "removing county as all the values are missing "
   ]
  },
  {
   "cell_type": "code",
   "execution_count": 195,
   "metadata": {},
   "outputs": [
    {
     "data": {
      "text/plain": [
       "Index(['id', 'region', 'year', 'manufacturer', 'model', 'condition',\n",
       "       'cylinders', 'fuel', 'odometer', 'title_status', 'transmission', 'vin',\n",
       "       'drive', 'size', 'type', 'paint_color', 'description', 'state', 'lat',\n",
       "       'long'],\n",
       "      dtype='object')"
      ]
     },
     "execution_count": 195,
     "metadata": {},
     "output_type": "execute_result"
    }
   ],
   "source": [
    "x=x.drop('county', 1)\n",
    "x.columns"
   ]
  },
  {
   "cell_type": "markdown",
   "metadata": {},
   "source": [
    "removing id and vin as it can lead to target information leakage"
   ]
  },
  {
   "cell_type": "code",
   "execution_count": 196,
   "metadata": {},
   "outputs": [
    {
     "data": {
      "text/plain": [
       "Index(['region', 'year', 'manufacturer', 'model', 'condition', 'cylinders',\n",
       "       'fuel', 'odometer', 'title_status', 'transmission', 'drive', 'size',\n",
       "       'type', 'paint_color', 'description', 'state', 'lat', 'long'],\n",
       "      dtype='object')"
      ]
     },
     "execution_count": 196,
     "metadata": {},
     "output_type": "execute_result"
    }
   ],
   "source": [
    "x=x.drop(['id','vin'], 1)\n",
    "x.columns"
   ]
  },
  {
   "cell_type": "code",
   "execution_count": 197,
   "metadata": {},
   "outputs": [
    {
     "data": {
      "text/plain": [
       "Index(['year', 'odometer', 'lat', 'long'], dtype='object')"
      ]
     },
     "execution_count": 197,
     "metadata": {},
     "output_type": "execute_result"
    }
   ],
   "source": [
    "cnt=x.select_dtypes(exclude=['object'])\n",
    "cnt.columns #list of continuous features"
   ]
  },
  {
   "cell_type": "code",
   "execution_count": 198,
   "metadata": {},
   "outputs": [
    {
     "data": {
      "text/html": [
       "<div>\n",
       "<style scoped>\n",
       "    .dataframe tbody tr th:only-of-type {\n",
       "        vertical-align: middle;\n",
       "    }\n",
       "\n",
       "    .dataframe tbody tr th {\n",
       "        vertical-align: top;\n",
       "    }\n",
       "\n",
       "    .dataframe thead th {\n",
       "        text-align: right;\n",
       "    }\n",
       "</style>\n",
       "<table border=\"1\" class=\"dataframe\">\n",
       "  <thead>\n",
       "    <tr style=\"text-align: right;\">\n",
       "      <th></th>\n",
       "      <th>year</th>\n",
       "      <th>odometer</th>\n",
       "      <th>lat</th>\n",
       "      <th>long</th>\n",
       "    </tr>\n",
       "  </thead>\n",
       "  <tbody>\n",
       "    <tr>\n",
       "      <th>count</th>\n",
       "      <td>472697.000000</td>\n",
       "      <td>3.913460e+05</td>\n",
       "      <td>464059.000000</td>\n",
       "      <td>464059.000000</td>\n",
       "    </tr>\n",
       "    <tr>\n",
       "      <th>mean</th>\n",
       "      <td>2009.617728</td>\n",
       "      <td>1.013198e+05</td>\n",
       "      <td>38.437498</td>\n",
       "      <td>-94.273893</td>\n",
       "    </tr>\n",
       "    <tr>\n",
       "      <th>std</th>\n",
       "      <td>8.704141</td>\n",
       "      <td>1.056439e+05</td>\n",
       "      <td>5.877320</td>\n",
       "      <td>17.647571</td>\n",
       "    </tr>\n",
       "    <tr>\n",
       "      <th>min</th>\n",
       "      <td>1900.000000</td>\n",
       "      <td>0.000000e+00</td>\n",
       "      <td>-82.688100</td>\n",
       "      <td>-165.935000</td>\n",
       "    </tr>\n",
       "    <tr>\n",
       "      <th>25%</th>\n",
       "      <td>2007.000000</td>\n",
       "      <td>4.900000e+04</td>\n",
       "      <td>34.526800</td>\n",
       "      <td>-108.387000</td>\n",
       "    </tr>\n",
       "    <tr>\n",
       "      <th>50%</th>\n",
       "      <td>2011.000000</td>\n",
       "      <td>9.411650e+04</td>\n",
       "      <td>39.140100</td>\n",
       "      <td>-88.486500</td>\n",
       "    </tr>\n",
       "    <tr>\n",
       "      <th>75%</th>\n",
       "      <td>2015.000000</td>\n",
       "      <td>1.382750e+05</td>\n",
       "      <td>42.447900</td>\n",
       "      <td>-81.194900</td>\n",
       "    </tr>\n",
       "    <tr>\n",
       "      <th>max</th>\n",
       "      <td>2021.000000</td>\n",
       "      <td>1.000000e+07</td>\n",
       "      <td>81.569300</td>\n",
       "      <td>94.124800</td>\n",
       "    </tr>\n",
       "  </tbody>\n",
       "</table>\n",
       "</div>"
      ],
      "text/plain": [
       "                year      odometer            lat           long\n",
       "count  472697.000000  3.913460e+05  464059.000000  464059.000000\n",
       "mean     2009.617728  1.013198e+05      38.437498     -94.273893\n",
       "std         8.704141  1.056439e+05       5.877320      17.647571\n",
       "min      1900.000000  0.000000e+00     -82.688100    -165.935000\n",
       "25%      2007.000000  4.900000e+04      34.526800    -108.387000\n",
       "50%      2011.000000  9.411650e+04      39.140100     -88.486500\n",
       "75%      2015.000000  1.382750e+05      42.447900     -81.194900\n",
       "max      2021.000000  1.000000e+07      81.569300      94.124800"
      ]
     },
     "execution_count": 198,
     "metadata": {},
     "output_type": "execute_result"
    }
   ],
   "source": [
    "#describe all contiuous features\n",
    "x.describe()"
   ]
  },
  {
   "cell_type": "code",
   "execution_count": 199,
   "metadata": {},
   "outputs": [
    {
     "data": {
      "text/html": [
       "<div>\n",
       "<style scoped>\n",
       "    .dataframe tbody tr th:only-of-type {\n",
       "        vertical-align: middle;\n",
       "    }\n",
       "\n",
       "    .dataframe tbody tr th {\n",
       "        vertical-align: top;\n",
       "    }\n",
       "\n",
       "    .dataframe thead th {\n",
       "        text-align: right;\n",
       "    }\n",
       "</style>\n",
       "<table border=\"1\" class=\"dataframe\">\n",
       "  <thead>\n",
       "    <tr style=\"text-align: right;\">\n",
       "      <th></th>\n",
       "      <th>region</th>\n",
       "      <th>manufacturer</th>\n",
       "      <th>model</th>\n",
       "      <th>condition</th>\n",
       "      <th>cylinders</th>\n",
       "      <th>fuel</th>\n",
       "      <th>title_status</th>\n",
       "      <th>transmission</th>\n",
       "      <th>drive</th>\n",
       "      <th>size</th>\n",
       "      <th>type</th>\n",
       "      <th>paint_color</th>\n",
       "      <th>description</th>\n",
       "      <th>state</th>\n",
       "    </tr>\n",
       "  </thead>\n",
       "  <tbody>\n",
       "    <tr>\n",
       "      <th>count</th>\n",
       "      <td>473963</td>\n",
       "      <td>453566</td>\n",
       "      <td>466641</td>\n",
       "      <td>258140</td>\n",
       "      <td>289276</td>\n",
       "      <td>470439</td>\n",
       "      <td>471231</td>\n",
       "      <td>470249</td>\n",
       "      <td>342094</td>\n",
       "      <td>156839</td>\n",
       "      <td>346003</td>\n",
       "      <td>323846</td>\n",
       "      <td>473947</td>\n",
       "      <td>473963</td>\n",
       "    </tr>\n",
       "    <tr>\n",
       "      <th>unique</th>\n",
       "      <td>403</td>\n",
       "      <td>43</td>\n",
       "      <td>35852</td>\n",
       "      <td>6</td>\n",
       "      <td>8</td>\n",
       "      <td>5</td>\n",
       "      <td>6</td>\n",
       "      <td>3</td>\n",
       "      <td>3</td>\n",
       "      <td>4</td>\n",
       "      <td>13</td>\n",
       "      <td>12</td>\n",
       "      <td>427803</td>\n",
       "      <td>51</td>\n",
       "    </tr>\n",
       "    <tr>\n",
       "      <th>top</th>\n",
       "      <td>fayetteville</td>\n",
       "      <td>ford</td>\n",
       "      <td>f-150</td>\n",
       "      <td>excellent</td>\n",
       "      <td>6 cylinders</td>\n",
       "      <td>gas</td>\n",
       "      <td>clean</td>\n",
       "      <td>automatic</td>\n",
       "      <td>4wd</td>\n",
       "      <td>full-size</td>\n",
       "      <td>sedan</td>\n",
       "      <td>white</td>\n",
       "      <td>ð¨SPECIAL SALE THIS MONTHð¨ â",
       "â",
       "â",
       " Buy*...</td>\n",
       "      <td>ca</td>\n",
       "    </tr>\n",
       "    <tr>\n",
       "      <th>freq</th>\n",
       "      <td>3975</td>\n",
       "      <td>86273</td>\n",
       "      <td>10837</td>\n",
       "      <td>128816</td>\n",
       "      <td>104617</td>\n",
       "      <td>410168</td>\n",
       "      <td>452649</td>\n",
       "      <td>424257</td>\n",
       "      <td>159920</td>\n",
       "      <td>84506</td>\n",
       "      <td>87208</td>\n",
       "      <td>83903</td>\n",
       "      <td>85</td>\n",
       "      <td>48611</td>\n",
       "    </tr>\n",
       "  </tbody>\n",
       "</table>\n",
       "</div>"
      ],
      "text/plain": [
       "              region manufacturer   model  condition    cylinders    fuel  \\\n",
       "count         473963       453566  466641     258140       289276  470439   \n",
       "unique           403           43   35852          6            8       5   \n",
       "top     fayetteville         ford   f-150  excellent  6 cylinders     gas   \n",
       "freq            3975        86273   10837     128816       104617  410168   \n",
       "\n",
       "       title_status transmission   drive       size    type paint_color  \\\n",
       "count        471231       470249  342094     156839  346003      323846   \n",
       "unique            6            3       3          4      13          12   \n",
       "top           clean    automatic     4wd  full-size   sedan       white   \n",
       "freq         452649       424257  159920      84506   87208       83903   \n",
       "\n",
       "                                              description   state  \n",
       "count                                              473947  473963  \n",
       "unique                                             427803      51  \n",
       "top     ð¨SPECIAL SALE THIS MONTHð¨ â\n",
       "â\n",
       "â\n",
       " Buy*...      ca  \n",
       "freq                                                   85   48611  "
      ]
     },
     "execution_count": 199,
     "metadata": {},
     "output_type": "execute_result"
    }
   ],
   "source": [
    "# Describing all the Categorical Features\n",
    "cat=x.select_dtypes(include=['object'])\n",
    "cat.describe(include=['O'])"
   ]
  },
  {
   "cell_type": "code",
   "execution_count": 203,
   "metadata": {},
   "outputs": [],
   "source": [
    "a=x.drop(['region','model','description'],1)"
   ]
  },
  {
   "cell_type": "code",
   "execution_count": 208,
   "metadata": {},
   "outputs": [
    {
     "data": {
      "image/png": "[encoded data removed]",
      "text/plain": [
       "<Figure size 1440x2520 with 15 Axes>"
      ]
     },
     "metadata": {},
     "output_type": "display_data"
    }
   ],
   "source": [
    "import math\n",
    "import seaborn as sns\n",
    "import warnings\n",
    "warnings.filterwarnings(\"ignore\", category=RuntimeWarning) \n",
    "def plot_distribution(dataset, cols=5, width=20, height=25, hspace=0.2, wspace=0.5):\n",
    "    plt.style.use('seaborn-whitegrid')\n",
    "    fig = plt.figure(figsize=(width,height))\n",
    "    fig.subplots_adjust(left=None, bottom=None, right=None, top=None, wspace=wspace, hspace=hspace)\n",
    "    rows = math.ceil(float(dataset.shape[1]) / cols)\n",
    "    for i, column in enumerate(dataset.columns):\n",
    "        ax = fig.add_subplot(rows, cols, i + 1)\n",
    "        ax.set_title(column)\n",
    "        if dataset.dtypes[column] == np.object:\n",
    "            g = sns.countplot(y=column, data=dataset)\n",
    "            substrings = [s.get_text()[:18] for s in g.get_yticklabels()]\n",
    "            g.set(yticklabels=substrings)\n",
    "            plt.xticks(rotation=25)\n",
    "        else:\n",
    "            g = sns.distplot(dataset[column])\n",
    "            plt.xticks(rotation=25)\n",
    "    \n",
    "plot_distribution(a, cols=3, width=20, height=35, hspace=0.45, wspace=0.5)"
   ]
  },
  {
   "cell_type": "code",
   "execution_count": 205,
   "metadata": {},
   "outputs": [
    {
     "data": {
      "text/plain": [
       "Index(['region', 'year', 'manufacturer', 'model', 'condition', 'cylinders',\n",
       "       'fuel', 'odometer', 'title_status', 'transmission', 'drive', 'size',\n",
       "       'type', 'paint_color', 'description', 'state', 'lat', 'long'],\n",
       "      dtype='object')"
      ]
     },
     "execution_count": 205,
     "metadata": {},
     "output_type": "execute_result"
    }
   ],
   "source": [
    "x.columns"
   ]
  },
  {
   "cell_type": "markdown",
   "metadata": {},
   "source": [
    "The above features are relevant for making the model and this can be validated by the above distributions. \n",
    "Note: Region and Model are important but have not been plotted because they have a lot of unique values."
   ]
  },
  {
   "cell_type": "markdown",
   "metadata": {},
   "source": [
    "# TASK 2"
   ]
  },
  {
   "cell_type": "code",
   "execution_count": 166,
   "metadata": {},
   "outputs": [
    {
     "data": {
      "text/plain": [
       "473963"
      ]
     },
     "execution_count": 166,
     "metadata": {},
     "output_type": "execute_result"
    }
   ],
   "source": [
    "len(df)"
   ]
  },
  {
   "cell_type": "code",
   "execution_count": 167,
   "metadata": {},
   "outputs": [],
   "source": [
    "df1=(df[~(df['price']==0)])\n",
    "df1=(df1[~(df1['price']>=100000000)])#price outliers\n",
    "df2=df1[~(df1['price']==1)]\n"
   ]
  },
  {
   "cell_type": "markdown",
   "metadata": {},
   "source": [
    "added a new column descriptionlen consisting of length of the values in the description column"
   ]
  },
  {
   "cell_type": "code",
   "execution_count": 168,
   "metadata": {},
   "outputs": [],
   "source": [
    "df2=df2[df2['description'].notna()]\n",
    "df2=df2[~(df2['description'].str.isdigit())]\n",
    "df2['descriptionlen'] = [len(n) for n in df2['description']]"
   ]
  },
  {
   "cell_type": "code",
   "execution_count": 169,
   "metadata": {},
   "outputs": [
    {
     "data": {
      "text/plain": [
       "430892"
      ]
     },
     "execution_count": 169,
     "metadata": {},
     "output_type": "execute_result"
    }
   ],
   "source": [
    "len(df2)"
   ]
  },
  {
   "cell_type": "code",
   "execution_count": 170,
   "metadata": {},
   "outputs": [
    {
     "data": {
      "text/plain": [
       "Index(['region', 'year', 'descriptionlen', 'fuel', 'title_status',\n",
       "       'transmission', 'state', 'lat', 'long'],\n",
       "      dtype='object')"
      ]
     },
     "execution_count": 170,
     "metadata": {},
     "output_type": "execute_result"
    }
   ],
   "source": [
    "x=df2[['region', 'year','descriptionlen','fuel',  'title_status', 'transmission', 'state','lat','long']]\n",
    "x.columns"
   ]
  },
  {
   "cell_type": "code",
   "execution_count": 171,
   "metadata": {},
   "outputs": [
    {
     "data": {
      "text/plain": [
       "0         17899\n",
       "2         46463\n",
       "4         49999\n",
       "5         13999\n",
       "6         34500\n",
       "          ...  \n",
       "509572    15476\n",
       "509573     9881\n",
       "509574    24895\n",
       "509575    32500\n",
       "509576    12900\n",
       "Name: price, Length: 430892, dtype: int64"
      ]
     },
     "execution_count": 171,
     "metadata": {},
     "output_type": "execute_result"
    }
   ],
   "source": [
    "y=df2['price']\n",
    "y"
   ]
  },
  {
   "cell_type": "markdown",
   "metadata": {},
   "source": [
    "pre processing"
   ]
  },
  {
   "cell_type": "code",
   "execution_count": 172,
   "metadata": {},
   "outputs": [],
   "source": [
    "#Train test split\n",
    "from sklearn.model_selection import train_test_split\n",
    "X_train, X_test, y_train, y_test = train_test_split(x, y, random_state=0)"
   ]
  },
  {
   "cell_type": "code",
   "execution_count": 173,
   "metadata": {},
   "outputs": [
    {
     "data": {
      "text/plain": [
       "['year', 'descriptionlen', 'lat', 'long']"
      ]
     },
     "execution_count": 173,
     "metadata": {},
     "output_type": "execute_result"
    }
   ],
   "source": [
    "cnt=list(x.columns[x.dtypes !=object])\n",
    "cnt"
   ]
  },
  {
   "cell_type": "code",
   "execution_count": 174,
   "metadata": {},
   "outputs": [
    {
     "data": {
      "text/plain": [
       "['region', 'fuel', 'title_status', 'transmission', 'state']"
      ]
     },
     "execution_count": 174,
     "metadata": {},
     "output_type": "execute_result"
    }
   ],
   "source": [
    "cat=list(x.select_dtypes(object).columns)\n",
    "cat"
   ]
  },
  {
   "cell_type": "code",
   "execution_count": 175,
   "metadata": {},
   "outputs": [],
   "source": [
    "from sklearn.impute import SimpleImputer\n",
    "from category_encoders import TargetEncoder\n",
    "from sklearn.preprocessing import StandardScaler\n",
    "from sklearn.compose import make_column_transformer\n",
    "from sklearn.preprocessing import OneHotEncoder\n",
    "from sklearn import linear_model\n",
    "from sklearn.pipeline import make_pipeline\n",
    "from sklearn.model_selection import cross_val_score\n",
    "from sklearn.compose import make_column_selector\n",
    "\n"
   ]
  },
  {
   "cell_type": "code",
   "execution_count": 176,
   "metadata": {},
   "outputs": [],
   "source": [
    "cont_preprocessing = make_pipeline(\n",
    "    SimpleImputer(),\n",
    "    StandardScaler())"
   ]
  },
  {
   "cell_type": "code",
   "execution_count": 177,
   "metadata": {},
   "outputs": [],
   "source": [
    "preprocess = make_column_transformer(\n",
    "    (SimpleImputer(strategy='most_frequent'),cat),\n",
    "    (cont_preprocessing,cnt))"
   ]
  },
  {
   "cell_type": "code",
   "execution_count": 178,
   "metadata": {},
   "outputs": [],
   "source": [
    "preprocess1 = make_column_transformer(\n",
    "    (TargetEncoder(),['region']),\n",
    "    (OneHotEncoder(handle_unknown='ignore',sparse=False),['fuel', 'title_status', 'transmission', 'state']),remainder='passthrough')"
   ]
  },
  {
   "cell_type": "code",
   "execution_count": 179,
   "metadata": {},
   "outputs": [
    {
     "data": {
      "text/plain": [
       "['region',\n",
       " 'fuel',\n",
       " 'title_status',\n",
       " 'transmission',\n",
       " 'state',\n",
       " 'year',\n",
       " 'descriptionlen',\n",
       " 'lat',\n",
       " 'long']"
      ]
     },
     "execution_count": 179,
     "metadata": {},
     "output_type": "execute_result"
    }
   ],
   "source": [
    "colname=cat+cnt\n",
    "colname"
   ]
  },
  {
   "cell_type": "code",
   "execution_count": null,
   "metadata": {},
   "outputs": [],
   "source": [
    "te =  preprocess.fit(X_train, y_train)\n",
    "n=pd.DataFrame(te.transform(X_train),columns=colname)\n",
    "n"
   ]
  },
  {
   "cell_type": "code",
   "execution_count": 181,
   "metadata": {},
   "outputs": [
    {
     "data": {
      "text/plain": [
       "region            0\n",
       "fuel              0\n",
       "title_status      0\n",
       "transmission      0\n",
       "state             0\n",
       "year              0\n",
       "descriptionlen    0\n",
       "lat               0\n",
       "long              0\n",
       "dtype: int64"
      ]
     },
     "execution_count": 181,
     "metadata": {},
     "output_type": "execute_result"
    }
   ],
   "source": [
    "pd.isna(n).sum()"
   ]
  },
  {
   "cell_type": "code",
   "execution_count": 182,
   "metadata": {},
   "outputs": [
    {
     "data": {
      "text/plain": [
       "0"
      ]
     },
     "execution_count": 182,
     "metadata": {},
     "output_type": "execute_result"
    }
   ],
   "source": [
    "pd.isna(y_train).sum()"
   ]
  },
  {
   "cell_type": "code",
   "execution_count": null,
   "metadata": {},
   "outputs": [],
   "source": [
    "y_train = y_train.reset_index(drop=True)\n",
    "y_train"
   ]
  },
  {
   "cell_type": "code",
   "execution_count": 184,
   "metadata": {},
   "outputs": [
    {
     "data": {
      "text/plain": [
       "323169"
      ]
     },
     "execution_count": 184,
     "metadata": {},
     "output_type": "execute_result"
    }
   ],
   "source": [
    "len(y_train)"
   ]
  },
  {
   "cell_type": "code",
   "execution_count": 185,
   "metadata": {},
   "outputs": [
    {
     "name": "stdout",
     "output_type": "stream",
     "text": [
      "[0.00445614 0.00072643 0.00456053 0.00682158 0.00110762]\n"
     ]
    },
    {
     "data": {
      "text/plain": [
       "0.0035344596695252584"
      ]
     },
     "execution_count": 185,
     "metadata": {},
     "output_type": "execute_result"
    }
   ],
   "source": [
    "lr = make_pipeline(preprocess1,linear_model.LinearRegression())\n",
    "scores = cross_val_score(lr, n, y_train,cv=5)\n",
    "print(scores)\n",
    "np.mean(scores)"
   ]
  },
  {
   "cell_type": "code",
   "execution_count": null,
   "metadata": {},
   "outputs": [],
   "source": [
    "ntest=pd.DataFrame(te.transform(X_test),columns=colname)\n",
    "ntest"
   ]
  },
  {
   "cell_type": "code",
   "execution_count": 187,
   "metadata": {},
   "outputs": [
    {
     "data": {
      "text/plain": [
       "0.006975772841038786"
      ]
     },
     "execution_count": 187,
     "metadata": {},
     "output_type": "execute_result"
    }
   ],
   "source": [
    "lr.fit(n, y_train)\n",
    "lr.score(ntest,y_test)"
   ]
  },
  {
   "cell_type": "markdown",
   "metadata": {},
   "source": [
    "# TASK 3"
   ]
  },
  {
   "cell_type": "code",
   "execution_count": 8,
   "metadata": {},
   "outputs": [
    {
     "data": {
      "text/plain": [
       "473963"
      ]
     },
     "execution_count": 8,
     "metadata": {},
     "output_type": "execute_result"
    }
   ],
   "source": [
    "len(df)"
   ]
  },
  {
   "cell_type": "code",
   "execution_count": 7,
   "metadata": {},
   "outputs": [
    {
     "data": {
      "text/html": [
       "<div>\n",
       "<style scoped>\n",
       "    .dataframe tbody tr th:only-of-type {\n",
       "        vertical-align: middle;\n",
       "    }\n",
       "\n",
       "    .dataframe tbody tr th {\n",
       "        vertical-align: top;\n",
       "    }\n",
       "\n",
       "    .dataframe thead th {\n",
       "        text-align: right;\n",
       "    }\n",
       "</style>\n",
       "<table border=\"1\" class=\"dataframe\">\n",
       "  <thead>\n",
       "    <tr style=\"text-align: right;\">\n",
       "      <th></th>\n",
       "      <th>url</th>\n",
       "      <th>region</th>\n",
       "      <th>region_url</th>\n",
       "      <th>manufacturer</th>\n",
       "      <th>model</th>\n",
       "      <th>condition</th>\n",
       "      <th>cylinders</th>\n",
       "      <th>fuel</th>\n",
       "      <th>title_status</th>\n",
       "      <th>transmission</th>\n",
       "      <th>vin</th>\n",
       "      <th>drive</th>\n",
       "      <th>size</th>\n",
       "      <th>type</th>\n",
       "      <th>paint_color</th>\n",
       "      <th>image_url</th>\n",
       "      <th>description</th>\n",
       "      <th>state</th>\n",
       "    </tr>\n",
       "  </thead>\n",
       "  <tbody>\n",
       "    <tr>\n",
       "      <th>count</th>\n",
       "      <td>509577</td>\n",
       "      <td>509577</td>\n",
       "      <td>509577</td>\n",
       "      <td>486813</td>\n",
       "      <td>501588</td>\n",
       "      <td>277643</td>\n",
       "      <td>309894</td>\n",
       "      <td>505592</td>\n",
       "      <td>506515</td>\n",
       "      <td>505858</td>\n",
       "      <td>302152</td>\n",
       "      <td>365434</td>\n",
       "      <td>167574</td>\n",
       "      <td>368046</td>\n",
       "      <td>344871</td>\n",
       "      <td>509563</td>\n",
       "      <td>509561</td>\n",
       "      <td>509577</td>\n",
       "    </tr>\n",
       "    <tr>\n",
       "      <th>unique</th>\n",
       "      <td>509577</td>\n",
       "      <td>403</td>\n",
       "      <td>413</td>\n",
       "      <td>43</td>\n",
       "      <td>35852</td>\n",
       "      <td>6</td>\n",
       "      <td>8</td>\n",
       "      <td>5</td>\n",
       "      <td>6</td>\n",
       "      <td>3</td>\n",
       "      <td>180145</td>\n",
       "      <td>3</td>\n",
       "      <td>4</td>\n",
       "      <td>13</td>\n",
       "      <td>12</td>\n",
       "      <td>349468</td>\n",
       "      <td>427803</td>\n",
       "      <td>51</td>\n",
       "    </tr>\n",
       "    <tr>\n",
       "      <th>top</th>\n",
       "      <td>https://fayetteville.craigslist.org/ctd/d/toyo...</td>\n",
       "      <td>fayetteville</td>\n",
       "      <td>https://modesto.craigslist.org</td>\n",
       "      <td>ford</td>\n",
       "      <td>f-150</td>\n",
       "      <td>excellent</td>\n",
       "      <td>6 cylinders</td>\n",
       "      <td>gas</td>\n",
       "      <td>clean</td>\n",
       "      <td>automatic</td>\n",
       "      <td>WDC0G4JB4HF164180</td>\n",
       "      <td>4wd</td>\n",
       "      <td>full-size</td>\n",
       "      <td>sedan</td>\n",
       "      <td>white</td>\n",
       "      <td>https://images.craigslist.org/00i0i_ChcqziILO2...</td>\n",
       "      <td>CLEAN TITLE NO ACCEDINTS  3 YEARS WARRANTY   D...</td>\n",
       "      <td>ca</td>\n",
       "    </tr>\n",
       "    <tr>\n",
       "      <th>freq</th>\n",
       "      <td>1</td>\n",
       "      <td>4501</td>\n",
       "      <td>2992</td>\n",
       "      <td>92601</td>\n",
       "      <td>11341</td>\n",
       "      <td>140663</td>\n",
       "      <td>111940</td>\n",
       "      <td>441688</td>\n",
       "      <td>487040</td>\n",
       "      <td>457659</td>\n",
       "      <td>114</td>\n",
       "      <td>170482</td>\n",
       "      <td>90481</td>\n",
       "      <td>93225</td>\n",
       "      <td>89322</td>\n",
       "      <td>167</td>\n",
       "      <td>160</td>\n",
       "      <td>52780</td>\n",
       "    </tr>\n",
       "  </tbody>\n",
       "</table>\n",
       "</div>"
      ],
      "text/plain": [
       "                                                      url        region  \\\n",
       "count                                              509577        509577   \n",
       "unique                                             509577           403   \n",
       "top     https://fayetteville.craigslist.org/ctd/d/toyo...  fayetteville   \n",
       "freq                                                    1          4501   \n",
       "\n",
       "                            region_url manufacturer   model  condition  \\\n",
       "count                           509577       486813  501588     277643   \n",
       "unique                             413           43   35852          6   \n",
       "top     https://modesto.craigslist.org         ford   f-150  excellent   \n",
       "freq                              2992        92601   11341     140663   \n",
       "\n",
       "          cylinders    fuel title_status transmission                vin  \\\n",
       "count        309894  505592       506515       505858             302152   \n",
       "unique            8       5            6            3             180145   \n",
       "top     6 cylinders     gas        clean    automatic  WDC0G4JB4HF164180   \n",
       "freq         111940  441688       487040       457659                114   \n",
       "\n",
       "         drive       size    type paint_color  \\\n",
       "count   365434     167574  368046      344871   \n",
       "unique       3          4      13          12   \n",
       "top        4wd  full-size   sedan       white   \n",
       "freq    170482      90481   93225       89322   \n",
       "\n",
       "                                                image_url  \\\n",
       "count                                              509563   \n",
       "unique                                             349468   \n",
       "top     https://images.craigslist.org/00i0i_ChcqziILO2...   \n",
       "freq                                                  167   \n",
       "\n",
       "                                              description   state  \n",
       "count                                              509561  509577  \n",
       "unique                                             427803      51  \n",
       "top     CLEAN TITLE NO ACCEDINTS  3 YEARS WARRANTY   D...      ca  \n",
       "freq                                                  160   52780  "
      ]
     },
     "execution_count": 7,
     "metadata": {},
     "output_type": "execute_result"
    }
   ],
   "source": [
    "df.describe(include=['O'])"
   ]
  },
  {
   "cell_type": "code",
   "execution_count": 8,
   "metadata": {},
   "outputs": [
    {
     "data": {
      "text/html": [
       "<div>\n",
       "<style scoped>\n",
       "    .dataframe tbody tr th:only-of-type {\n",
       "        vertical-align: middle;\n",
       "    }\n",
       "\n",
       "    .dataframe tbody tr th {\n",
       "        vertical-align: top;\n",
       "    }\n",
       "\n",
       "    .dataframe thead th {\n",
       "        text-align: right;\n",
       "    }\n",
       "</style>\n",
       "<table border=\"1\" class=\"dataframe\">\n",
       "  <thead>\n",
       "    <tr style=\"text-align: right;\">\n",
       "      <th></th>\n",
       "      <th>id</th>\n",
       "      <th>price</th>\n",
       "      <th>year</th>\n",
       "      <th>odometer</th>\n",
       "      <th>county</th>\n",
       "      <th>lat</th>\n",
       "      <th>long</th>\n",
       "    </tr>\n",
       "  </thead>\n",
       "  <tbody>\n",
       "    <tr>\n",
       "      <th>count</th>\n",
       "      <td>5.095770e+05</td>\n",
       "      <td>5.095770e+05</td>\n",
       "      <td>508050.000000</td>\n",
       "      <td>4.172530e+05</td>\n",
       "      <td>0.0</td>\n",
       "      <td>499285.000000</td>\n",
       "      <td>499285.000000</td>\n",
       "    </tr>\n",
       "    <tr>\n",
       "      <th>mean</th>\n",
       "      <td>7.044176e+09</td>\n",
       "      <td>5.479684e+04</td>\n",
       "      <td>2009.662236</td>\n",
       "      <td>1.017300e+05</td>\n",
       "      <td>NaN</td>\n",
       "      <td>38.453818</td>\n",
       "      <td>-94.313886</td>\n",
       "    </tr>\n",
       "    <tr>\n",
       "      <th>std</th>\n",
       "      <td>4.937219e+06</td>\n",
       "      <td>9.575025e+06</td>\n",
       "      <td>8.567953</td>\n",
       "      <td>1.073790e+05</td>\n",
       "      <td>NaN</td>\n",
       "      <td>5.902152</td>\n",
       "      <td>17.717653</td>\n",
       "    </tr>\n",
       "    <tr>\n",
       "      <th>min</th>\n",
       "      <td>6.995212e+09</td>\n",
       "      <td>0.000000e+00</td>\n",
       "      <td>1900.000000</td>\n",
       "      <td>0.000000e+00</td>\n",
       "      <td>NaN</td>\n",
       "      <td>-82.688100</td>\n",
       "      <td>-165.935000</td>\n",
       "    </tr>\n",
       "    <tr>\n",
       "      <th>25%</th>\n",
       "      <td>7.040802e+09</td>\n",
       "      <td>3.995000e+03</td>\n",
       "      <td>2007.000000</td>\n",
       "      <td>4.948800e+04</td>\n",
       "      <td>NaN</td>\n",
       "      <td>34.557400</td>\n",
       "      <td>-108.506000</td>\n",
       "    </tr>\n",
       "    <tr>\n",
       "      <th>50%</th>\n",
       "      <td>7.045325e+09</td>\n",
       "      <td>9.377000e+03</td>\n",
       "      <td>2011.000000</td>\n",
       "      <td>9.489400e+04</td>\n",
       "      <td>NaN</td>\n",
       "      <td>39.145300</td>\n",
       "      <td>-88.678800</td>\n",
       "    </tr>\n",
       "    <tr>\n",
       "      <th>75%</th>\n",
       "      <td>7.048556e+09</td>\n",
       "      <td>1.795500e+04</td>\n",
       "      <td>2015.000000</td>\n",
       "      <td>1.387780e+05</td>\n",
       "      <td>NaN</td>\n",
       "      <td>42.449000</td>\n",
       "      <td>-81.111400</td>\n",
       "    </tr>\n",
       "    <tr>\n",
       "      <th>max</th>\n",
       "      <td>7.050103e+09</td>\n",
       "      <td>3.600029e+09</td>\n",
       "      <td>2021.000000</td>\n",
       "      <td>1.000000e+07</td>\n",
       "      <td>NaN</td>\n",
       "      <td>81.569300</td>\n",
       "      <td>94.124800</td>\n",
       "    </tr>\n",
       "  </tbody>\n",
       "</table>\n",
       "</div>"
      ],
      "text/plain": [
       "                 id         price           year      odometer  county  \\\n",
       "count  5.095770e+05  5.095770e+05  508050.000000  4.172530e+05     0.0   \n",
       "mean   7.044176e+09  5.479684e+04    2009.662236  1.017300e+05     NaN   \n",
       "std    4.937219e+06  9.575025e+06       8.567953  1.073790e+05     NaN   \n",
       "min    6.995212e+09  0.000000e+00    1900.000000  0.000000e+00     NaN   \n",
       "25%    7.040802e+09  3.995000e+03    2007.000000  4.948800e+04     NaN   \n",
       "50%    7.045325e+09  9.377000e+03    2011.000000  9.489400e+04     NaN   \n",
       "75%    7.048556e+09  1.795500e+04    2015.000000  1.387780e+05     NaN   \n",
       "max    7.050103e+09  3.600029e+09    2021.000000  1.000000e+07     NaN   \n",
       "\n",
       "                 lat           long  \n",
       "count  499285.000000  499285.000000  \n",
       "mean       38.453818     -94.313886  \n",
       "std         5.902152      17.717653  \n",
       "min       -82.688100    -165.935000  \n",
       "25%        34.557400    -108.506000  \n",
       "50%        39.145300     -88.678800  \n",
       "75%        42.449000     -81.111400  \n",
       "max        81.569300      94.124800  "
      ]
     },
     "execution_count": 8,
     "metadata": {},
     "output_type": "execute_result"
    }
   ],
   "source": [
    "df.describe(exclude=['O'])"
   ]
  },
  {
   "cell_type": "code",
   "execution_count": 6,
   "metadata": {},
   "outputs": [
    {
     "data": {
      "text/plain": [
       "Index(['id', 'url', 'region', 'region_url', 'price', 'year', 'manufacturer',\n",
       "       'model', 'condition', 'cylinders', 'fuel', 'odometer', 'title_status',\n",
       "       'transmission', 'vin', 'drive', 'size', 'type', 'paint_color',\n",
       "       'image_url', 'description', 'county', 'state', 'lat', 'long'],\n",
       "      dtype='object')"
      ]
     },
     "execution_count": 6,
     "metadata": {},
     "output_type": "execute_result"
    }
   ],
   "source": [
    "df.columns"
   ]
  },
  {
   "cell_type": "code",
   "execution_count": 40,
   "metadata": {},
   "outputs": [
    {
     "data": {
      "text/plain": [
       "Index(['region', 'price', 'year', 'manufacturer', 'model', 'condition',\n",
       "       'cylinders', 'fuel', 'odometer', 'title_status', 'transmission',\n",
       "       'drive', 'size', 'type', 'paint_color', 'description', 'state', 'lat',\n",
       "       'long'],\n",
       "      dtype='object')"
      ]
     },
     "execution_count": 40,
     "metadata": {},
     "output_type": "execute_result"
    }
   ],
   "source": [
    "finaldf=df.drop(['id','vin','url','region_url','image_url','county'], 1)\n",
    "finaldf.columns"
   ]
  },
  {
   "cell_type": "markdown",
   "metadata": {},
   "source": [
    "dealing with price column"
   ]
  },
  {
   "cell_type": "markdown",
   "metadata": {},
   "source": [
    "The target variable of this project is Price. Therefore, any records where price is null would be irrelevant. \n",
    "Check to see if the dataset contains null prices."
   ]
  },
  {
   "cell_type": "code",
   "execution_count": 10,
   "metadata": {},
   "outputs": [
    {
     "data": {
      "text/plain": [
       "0"
      ]
     },
     "execution_count": 10,
     "metadata": {},
     "output_type": "execute_result"
    }
   ],
   "source": [
    "pd.isna(finaldf['price']).sum()"
   ]
  },
  {
   "cell_type": "code",
   "execution_count": 41,
   "metadata": {},
   "outputs": [],
   "source": [
    "finaldf=(finaldf[~(finaldf['price']==0)])#removing rows which have price=0"
   ]
  },
  {
   "cell_type": "code",
   "execution_count": 9,
   "metadata": {},
   "outputs": [
    {
     "data": {
      "image/png": "[encoded data removed]",
      "text/plain": [
       "<Figure size 432x288 with 1 Axes>"
      ]
     },
     "metadata": {
      "needs_background": "light"
     },
     "output_type": "display_data"
    }
   ],
   "source": [
    "red_square = dict(markerfacecolor='r', marker='s')\n",
    "fig, ax = plt.subplots()\n",
    "ax.set_title('Horizontal Box Plot for Sales Price')\n",
    "ax.boxplot(finaldf.price, vert=False, flierprops=red_square)\n",
    "plt.show()"
   ]
  },
  {
   "cell_type": "code",
   "execution_count": 42,
   "metadata": {},
   "outputs": [],
   "source": [
    "finaldf=(finaldf[~(finaldf['price']>=100000000)])#outlier removal"
   ]
  },
  {
   "cell_type": "code",
   "execution_count": 11,
   "metadata": {},
   "outputs": [
    {
     "data": {
      "image/png": "[encoded data removed]",
      "text/plain": [
       "<Figure size 432x288 with 1 Axes>"
      ]
     },
     "metadata": {
      "needs_background": "light"
     },
     "output_type": "display_data"
    }
   ],
   "source": [
    "plt.hist(np.log(finaldf['price']),bins=\"auto\")\n",
    "plt.xlabel('Log(Price)')\n",
    "plt.ylabel('Frequency');"
   ]
  },
  {
   "cell_type": "code",
   "execution_count": 43,
   "metadata": {},
   "outputs": [],
   "source": [
    "finaldf=(finaldf[~(finaldf['price']==1)])#removing price=1 as there is a peak on left"
   ]
  },
  {
   "cell_type": "code",
   "execution_count": 44,
   "metadata": {},
   "outputs": [
    {
     "data": {
      "text/plain": [
       "['price', 'year', 'odometer', 'lat', 'long']"
      ]
     },
     "execution_count": 44,
     "metadata": {},
     "output_type": "execute_result"
    }
   ],
   "source": [
    "cnt=list(finaldf.columns[finaldf.dtypes !=object])\n",
    "cnt"
   ]
  },
  {
   "cell_type": "code",
   "execution_count": 45,
   "metadata": {},
   "outputs": [
    {
     "name": "stdout",
     "output_type": "stream",
     "text": [
      "['region', 'manufacturer', 'model', 'condition', 'cylinders', 'fuel', 'title_status', 'transmission', 'drive', 'size', 'type', 'paint_color', 'description', 'state']\n"
     ]
    }
   ],
   "source": [
    "cat=list(finaldf.columns[finaldf.dtypes ==object])\n",
    "print(cat)"
   ]
  },
  {
   "cell_type": "markdown",
   "metadata": {},
   "source": [
    "dealing with year column"
   ]
  },
  {
   "cell_type": "markdown",
   "metadata": {},
   "source": [
    "keeping rows without nan values in year column as imputing it is not a very good strategy"
   ]
  },
  {
   "cell_type": "code",
   "execution_count": 46,
   "metadata": {},
   "outputs": [],
   "source": [
    "finaldf=finaldf[finaldf['year'].notna()]\n"
   ]
  },
  {
   "cell_type": "code",
   "execution_count": 16,
   "metadata": {},
   "outputs": [
    {
     "data": {
      "image/png": "[encoded data removed]",
      "text/plain": [
       "<Figure size 432x288 with 1 Axes>"
      ]
     },
     "metadata": {
      "needs_background": "light"
     },
     "output_type": "display_data"
    }
   ],
   "source": [
    "plt.hist((finaldf['year']),bins=\"auto\")\n",
    "plt.xlabel('Year')\n",
    "plt.ylabel('Frequency');"
   ]
  },
  {
   "cell_type": "code",
   "execution_count": 47,
   "metadata": {},
   "outputs": [],
   "source": [
    "finaldf=finaldf[(finaldf['year']>=1980) & (finaldf['year']<=2020)]"
   ]
  },
  {
   "cell_type": "markdown",
   "metadata": {},
   "source": [
    "dealing with odometer column"
   ]
  },
  {
   "cell_type": "code",
   "execution_count": 48,
   "metadata": {},
   "outputs": [],
   "source": [
    "finaldf=(finaldf[~(finaldf['odometer']==0)])"
   ]
  },
  {
   "cell_type": "code",
   "execution_count": 19,
   "metadata": {},
   "outputs": [
    {
     "name": "stderr",
     "output_type": "stream",
     "text": [
      "C:\\Users\\user\\Anaconda3\\lib\\site-packages\\numpy\\lib\\histograms.py:403: RuntimeWarning: invalid value encountered in greater_equal\n",
      "  keep = (a >= first_edge)\n",
      "C:\\Users\\user\\Anaconda3\\lib\\site-packages\\numpy\\lib\\histograms.py:404: RuntimeWarning: invalid value encountered in less_equal\n",
      "  keep &= (a <= last_edge)\n",
      "C:\\Users\\user\\Anaconda3\\lib\\site-packages\\numpy\\lib\\histograms.py:839: RuntimeWarning: invalid value encountered in greater_equal\n",
      "  keep = (tmp_a >= first_edge)\n",
      "C:\\Users\\user\\Anaconda3\\lib\\site-packages\\numpy\\lib\\histograms.py:840: RuntimeWarning: invalid value encountered in less_equal\n",
      "  keep &= (tmp_a <= last_edge)\n"
     ]
    },
    {
     "data": {
      "image/png": "[encoded data removed]",
      "text/plain": [
       "<Figure size 432x288 with 1 Axes>"
      ]
     },
     "metadata": {
      "needs_background": "light"
     },
     "output_type": "display_data"
    }
   ],
   "source": [
    "plt.hist(np.log(finaldf['odometer']),bins=\"auto\");"
   ]
  },
  {
   "cell_type": "code",
   "execution_count": 49,
   "metadata": {},
   "outputs": [],
   "source": [
    "finaldf=finaldf[~(finaldf['odometer']>9000000)]#very high odometer readings"
   ]
  },
  {
   "cell_type": "code",
   "execution_count": 19,
   "metadata": {},
   "outputs": [
    {
     "name": "stderr",
     "output_type": "stream",
     "text": [
      "C:\\Users\\user\\Anaconda3\\lib\\site-packages\\numpy\\lib\\histograms.py:403: RuntimeWarning: invalid value encountered in greater_equal\n",
      "  keep = (a >= first_edge)\n",
      "C:\\Users\\user\\Anaconda3\\lib\\site-packages\\numpy\\lib\\histograms.py:404: RuntimeWarning: invalid value encountered in less_equal\n",
      "  keep &= (a <= last_edge)\n",
      "C:\\Users\\user\\Anaconda3\\lib\\site-packages\\numpy\\lib\\histograms.py:839: RuntimeWarning: invalid value encountered in greater_equal\n",
      "  keep = (tmp_a >= first_edge)\n",
      "C:\\Users\\user\\Anaconda3\\lib\\site-packages\\numpy\\lib\\histograms.py:840: RuntimeWarning: invalid value encountered in less_equal\n",
      "  keep &= (tmp_a <= last_edge)\n"
     ]
    },
    {
     "data": {
      "image/png": "[encoded data removed]",
      "text/plain": [
       "<Figure size 432x288 with 1 Axes>"
      ]
     },
     "metadata": {
      "needs_background": "light"
     },
     "output_type": "display_data"
    }
   ],
   "source": [
    "plt.hist(np.log(finaldf['odometer']),bins=\"auto\");"
   ]
  },
  {
   "cell_type": "code",
   "execution_count": 50,
   "metadata": {},
   "outputs": [],
   "source": [
    "finaldf=finaldf[~(finaldf['odometer']<=500)] #added one more condition for odometer"
   ]
  },
  {
   "cell_type": "code",
   "execution_count": 23,
   "metadata": {},
   "outputs": [
    {
     "data": {
      "image/png": "[encoded data removed]",
      "text/plain": [
       "<Figure size 432x288 with 1 Axes>"
      ]
     },
     "metadata": {
      "needs_background": "light"
     },
     "output_type": "display_data"
    }
   ],
   "source": [
    "plt.hist(np.log(a['odometer']),bins=\"auto\");"
   ]
  },
  {
   "cell_type": "markdown",
   "metadata": {},
   "source": [
    "dealing with description column"
   ]
  },
  {
   "cell_type": "code",
   "execution_count": 51,
   "metadata": {},
   "outputs": [],
   "source": [
    "finaldf=finaldf[finaldf['description'].notna()]\n",
    "finaldf=finaldf[~(finaldf['description'].str.isdigit())]\n",
    "finaldf['namelen'] = [len(n) for n in finaldf['description']]# creating a new column consisting of length of desciption column"
   ]
  },
  {
   "cell_type": "code",
   "execution_count": 24,
   "metadata": {},
   "outputs": [
    {
     "data": {
      "text/plain": [
       "<seaborn.axisgrid.JointGrid at 0x28942573dd8>"
      ]
     },
     "execution_count": 24,
     "metadata": {},
     "output_type": "execute_result"
    },
    {
     "data": {
      "image/png": "[encoded data removed]",
      "text/plain": [
       "<Figure size 432x432 with 3 Axes>"
      ]
     },
     "metadata": {
      "needs_background": "light"
     },
     "output_type": "display_data"
    }
   ],
   "source": [
    "import seaborn as sns\n",
    "sns.jointplot(x='namelen', \n",
    "                   y='price',\n",
    "                   data=finaldf[['namelen','price']],alpha=0.7)\n"
   ]
  },
  {
   "cell_type": "markdown",
   "metadata": {},
   "source": [
    "it can seen that length of the description also has an effect on the sales price"
   ]
  },
  {
   "cell_type": "code",
   "execution_count": 52,
   "metadata": {},
   "outputs": [],
   "source": [
    "finaldf=finaldf.drop(['description'],axis=1)"
   ]
  },
  {
   "cell_type": "code",
   "execution_count": 53,
   "metadata": {},
   "outputs": [
    {
     "data": {
      "text/plain": [
       "region               0\n",
       "price                0\n",
       "year                 0\n",
       "manufacturer     15465\n",
       "model             5685\n",
       "condition       182553\n",
       "cylinders       161371\n",
       "fuel              2781\n",
       "odometer         69588\n",
       "title_status      2197\n",
       "transmission      3186\n",
       "drive           115480\n",
       "size            277386\n",
       "type            112157\n",
       "paint_color     128746\n",
       "state                0\n",
       "lat               4830\n",
       "long              4830\n",
       "namelen              0\n",
       "dtype: int64"
      ]
     },
     "execution_count": 53,
     "metadata": {},
     "output_type": "execute_result"
    }
   ],
   "source": [
    "pd.isna(finaldf).sum()"
   ]
  },
  {
   "cell_type": "code",
   "execution_count": 54,
   "metadata": {},
   "outputs": [
    {
     "data": {
      "text/plain": [
       "415572"
      ]
     },
     "execution_count": 54,
     "metadata": {},
     "output_type": "execute_result"
    }
   ],
   "source": [
    "len(finaldf)"
   ]
  },
  {
   "cell_type": "code",
   "execution_count": 21,
   "metadata": {},
   "outputs": [
    {
     "data": {
      "text/plain": [
       "Index(['region', 'price', 'year', 'manufacturer', 'model', 'condition',\n",
       "       'cylinders', 'fuel', 'odometer', 'title_status', 'transmission',\n",
       "       'drive', 'size', 'type', 'paint_color', 'state', 'lat', 'long',\n",
       "       'namelen'],\n",
       "      dtype='object')"
      ]
     },
     "execution_count": 21,
     "metadata": {},
     "output_type": "execute_result"
    }
   ],
   "source": [
    "finaldf.columns"
   ]
  },
  {
   "cell_type": "markdown",
   "metadata": {},
   "source": [
    "binning price column with quantile values used while stratify in train-test split"
   ]
  },
  {
   "cell_type": "code",
   "execution_count": 55,
   "metadata": {},
   "outputs": [],
   "source": [
    "quantile = list(finaldf.price.quantile([0, 0.25, 0.5, 0.75, 1.0]))\n",
    "y_binned = []\n",
    "for price in finaldf['price']:\n",
    "    if price<=quantile[1]:y_binned.append(1)\n",
    "    elif price<=quantile[2]:y_binned.append(2)\n",
    "    elif price<=quantile[3]:y_binned.append(3)\n",
    "    else: y_binned.append(4)"
   ]
  },
  {
   "cell_type": "code",
   "execution_count": 56,
   "metadata": {},
   "outputs": [
    {
     "data": {
      "text/plain": [
       "Index(['region', 'year', 'manufacturer', 'model', 'condition', 'cylinders',\n",
       "       'fuel', 'odometer', 'title_status', 'transmission', 'drive', 'size',\n",
       "       'type', 'paint_color', 'state', 'lat', 'long', 'namelen'],\n",
       "      dtype='object')"
      ]
     },
     "execution_count": 56,
     "metadata": {},
     "output_type": "execute_result"
    }
   ],
   "source": [
    "x=finaldf.drop(['price'],axis=1)\n",
    "x.columns"
   ]
  },
  {
   "cell_type": "code",
   "execution_count": 57,
   "metadata": {},
   "outputs": [
    {
     "data": {
      "text/plain": [
       "0    17899\n",
       "2    46463\n",
       "4    49999\n",
       "5    13999\n",
       "6    34500\n",
       "Name: price, dtype: int64"
      ]
     },
     "execution_count": 57,
     "metadata": {},
     "output_type": "execute_result"
    }
   ],
   "source": [
    "y=finaldf['price']\n",
    "y.head()"
   ]
  },
  {
   "cell_type": "code",
   "execution_count": 58,
   "metadata": {},
   "outputs": [
    {
     "data": {
      "text/plain": [
       "['year', 'odometer', 'lat', 'long', 'namelen']"
      ]
     },
     "execution_count": 58,
     "metadata": {},
     "output_type": "execute_result"
    }
   ],
   "source": [
    "cnt=list(x.columns[x.dtypes !=object])\n",
    "cnt"
   ]
  },
  {
   "cell_type": "code",
   "execution_count": 59,
   "metadata": {},
   "outputs": [
    {
     "name": "stdout",
     "output_type": "stream",
     "text": [
      "['region', 'manufacturer', 'model', 'condition', 'cylinders', 'fuel', 'title_status', 'transmission', 'drive', 'size', 'type', 'paint_color', 'state']\n"
     ]
    }
   ],
   "source": [
    "cat=list(x.columns[x.dtypes ==object])\n",
    "print(cat)"
   ]
  },
  {
   "cell_type": "markdown",
   "metadata": {},
   "source": [
    "creating a new category - not_available for those columns which have more than 1 lakh missing values"
   ]
  },
  {
   "cell_type": "code",
   "execution_count": 60,
   "metadata": {},
   "outputs": [],
   "source": [
    "x['condition'].fillna(value='not_available', inplace=True)\n",
    "x['cylinders'].fillna(value='not_available', inplace=True)\n",
    "x['drive'].fillna(value='not_available', inplace=True)\n",
    "x['size'].fillna(value='not_available', inplace=True)\n",
    "x['type'].fillna(value='not_available', inplace=True)\n",
    "x['paint_color'].fillna(value='not_available', inplace=True)"
   ]
  },
  {
   "cell_type": "code",
   "execution_count": 61,
   "metadata": {},
   "outputs": [],
   "source": [
    "from sklearn.impute import SimpleImputer\n",
    "from category_encoders import TargetEncoder\n",
    "from sklearn.preprocessing import StandardScaler\n",
    "from sklearn.compose import make_column_transformer\n",
    "from sklearn.preprocessing import OneHotEncoder\n",
    "from sklearn import linear_model\n",
    "from sklearn.pipeline import make_pipeline\n",
    "from sklearn.model_selection import cross_val_score\n",
    "from sklearn.compose import make_column_selector\n"
   ]
  },
  {
   "cell_type": "code",
   "execution_count": 62,
   "metadata": {},
   "outputs": [
    {
     "name": "stdout",
     "output_type": "stream",
     "text": [
      "['manufacturer', 'model', 'fuel', 'title_status', 'transmission', 'year', 'odometer', 'lat', 'long', 'namelen', 'region', 'condition', 'cylinders', 'drive', 'size', 'type', 'paint_color', 'state']\n"
     ]
    }
   ],
   "source": [
    "#Train test split\n",
    "from sklearn.model_selection import train_test_split\n",
    "X_train, X_test, y_train, y_test = train_test_split(x, y,random_state=0,stratify=y_binned)\n",
    "cont_preprocessing = make_pipeline(\n",
    "    SimpleImputer(),StandardScaler())\n",
    "cat_remaining=['manufacturer','model','fuel', 'title_status', 'transmission']\n",
    "preprocess = make_column_transformer(\n",
    "    (SimpleImputer(strategy='most_frequent'),cat_remaining),\n",
    "    (cont_preprocessing,cnt),remainder='passthrough')\n",
    "colname=cat_remaining+cnt+['region','condition','cylinders','drive','size','type','paint_color','state']\n",
    "print(colname)\n",
    "X_train = X_train.reset_index(drop=True)\n",
    "y_train = y_train.reset_index(drop=True)"
   ]
  },
  {
   "cell_type": "code",
   "execution_count": 63,
   "metadata": {},
   "outputs": [],
   "source": [
    "te =  preprocess.fit(X_train, y_train)"
   ]
  },
  {
   "cell_type": "code",
   "execution_count": null,
   "metadata": {},
   "outputs": [],
   "source": [
    "n=pd.DataFrame(te.transform(X_train),columns=colname)\n",
    "n"
   ]
  },
  {
   "cell_type": "code",
   "execution_count": 65,
   "metadata": {},
   "outputs": [],
   "source": [
    "n.to_csv('final df.csv')"
   ]
  },
  {
   "cell_type": "code",
   "execution_count": 66,
   "metadata": {},
   "outputs": [],
   "source": [
    "preprocess1 = make_column_transformer(\n",
    "    (TargetEncoder(),['model','region']),\n",
    "    (OneHotEncoder(handle_unknown='ignore',sparse=False),['manufacturer', 'condition', 'cylinders', 'fuel', 'title_status', 'transmission', 'drive', 'size', 'type', 'paint_color', 'state']),\n",
    "    remainder='passthrough')"
   ]
  },
  {
   "cell_type": "markdown",
   "metadata": {},
   "source": [
    "# TASK 4"
   ]
  },
  {
   "cell_type": "markdown",
   "metadata": {},
   "source": [
    "TRIED LINEAR REGRESSION"
   ]
  },
  {
   "cell_type": "code",
   "execution_count": 33,
   "metadata": {
    "scrolled": false
   },
   "outputs": [
    {
     "name": "stdout",
     "output_type": "stream",
     "text": [
      "[ 0.00456576 -0.0252211   0.00535932  0.00758274  0.00593521]\n"
     ]
    },
    {
     "data": {
      "text/plain": [
       "-0.00035561409074378323"
      ]
     },
     "execution_count": 33,
     "metadata": {},
     "output_type": "execute_result"
    }
   ],
   "source": [
    "lr = make_pipeline(preprocess1,linear_model.LinearRegression())\n",
    "scores = cross_val_score(lr, n, y_train,cv=5)\n",
    "print(scores)\n",
    "np.mean(scores)"
   ]
  },
  {
   "cell_type": "markdown",
   "metadata": {},
   "source": [
    "TRIED  GRADIENT BOOSTING"
   ]
  },
  {
   "cell_type": "code",
   "execution_count": 51,
   "metadata": {},
   "outputs": [
    {
     "name": "stdout",
     "output_type": "stream",
     "text": [
      "[0.1657784  0.74389018 0.89285295 0.6020846  0.81429892]\n"
     ]
    },
    {
     "data": {
      "text/plain": [
       "0.6437810102675204"
      ]
     },
     "execution_count": 51,
     "metadata": {},
     "output_type": "execute_result"
    }
   ],
   "source": [
    "from sklearn import ensemble\n",
    "gb = make_pipeline(preprocess1,ensemble.GradientBoostingRegressor(loss='ls', learning_rate=0.12, subsample=0.8))\n",
    "scores = cross_val_score(gb, n, y_train,cv=5)\n",
    "print(scores)\n",
    "np.mean(scores)"
   ]
  },
  {
   "cell_type": "markdown",
   "metadata": {},
   "source": [
    "TRIED XGBOOST"
   ]
  },
  {
   "cell_type": "code",
   "execution_count": 80,
   "metadata": {},
   "outputs": [],
   "source": [
    "import xgboost as xgb"
   ]
  },
  {
   "cell_type": "code",
   "execution_count": 130,
   "metadata": {},
   "outputs": [
    {
     "name": "stdout",
     "output_type": "stream",
     "text": [
      "[19:35:30] WARNING: src/objective/regression_obj.cu:152: reg:linear is now deprecated in favor of reg:squarederror.\n",
      "[19:39:15] WARNING: src/objective/regression_obj.cu:152: reg:linear is now deprecated in favor of reg:squarederror.\n",
      "[19:42:40] WARNING: src/objective/regression_obj.cu:152: reg:linear is now deprecated in favor of reg:squarederror.\n",
      "[19:46:14] WARNING: src/objective/regression_obj.cu:152: reg:linear is now deprecated in favor of reg:squarederror.\n",
      "[19:49:51] WARNING: src/objective/regression_obj.cu:152: reg:linear is now deprecated in favor of reg:squarederror.\n",
      "[0.19386256 0.71375329 0.85354496 0.7101212  0.83377834]\n"
     ]
    },
    {
     "data": {
      "text/plain": [
       "0.6610120706828579"
      ]
     },
     "execution_count": 130,
     "metadata": {},
     "output_type": "execute_result"
    }
   ],
   "source": [
    "xg_reg = xgb.XGBRegressor(learning_rate = 0.05,max_depth = 7)\n",
    "regr1 = make_pipeline(preprocess1,xg_reg)\n",
    "scores = cross_val_score(regr, n, y_train,cv=5)\n",
    "print(scores)\n",
    "np.mean(scores)"
   ]
  },
  {
   "cell_type": "markdown",
   "metadata": {},
   "source": [
    "GRID CV WITH XGBOOST"
   ]
  },
  {
   "cell_type": "code",
   "execution_count": null,
   "metadata": {},
   "outputs": [],
   "source": [
    "xg_reg = xgb.XGBRegressor()\n",
    "regr = make_pipeline(preprocess1,xg_reg)\n",
    "params = {\n",
    "       'xgbregressor__learning_rate' : [0.1,0.01,0.05,0.5],\n",
    "       'xgbregressor__max_depth': [ 3, 5, 7]\n",
    "       }\n",
    "from sklearn.model_selection import GridSearchCV\n",
    "grid1 = GridSearchCV(regr, param_grid= params,\n",
    "                   cv=5, return_train_score=True)\n",
    "grid1.fit(n, y_train)\n",
    "print(\"best mean cross-validation score: {:.3f}\".format(grid1.best_score_))\n",
    "print(\"best parameters: {}\".format(grid1.best_params_))"
   ]
  },
  {
   "cell_type": "markdown",
   "metadata": {},
   "source": [
    "best mean cross-validation score: 0.684\n",
    "\n",
    "best parameters: {'xgbregressor__learning_rate': 0.05, 'xgbregressor__max_depth': 7}"
   ]
  },
  {
   "cell_type": "markdown",
   "metadata": {},
   "source": [
    "TRIED LIGHT GBM WITH POLYNOMIAL FEATURES (N=2)"
   ]
  },
  {
   "cell_type": "code",
   "execution_count": 61,
   "metadata": {},
   "outputs": [
    {
     "name": "stdout",
     "output_type": "stream",
     "text": [
      "[0.54266907 0.57732064 0.62038618 0.56036621 0.70051839]\n"
     ]
    },
    {
     "data": {
      "text/plain": [
       "0.6002520966691041"
      ]
     },
     "execution_count": 61,
     "metadata": {},
     "output_type": "execute_result"
    }
   ],
   "source": [
    "import lightgbm as lgb\n",
    "model = lgb.LGBMRegressor(objective='regression',\n",
    "                              learning_rate=0.05)\n",
    "regr = make_pipeline(preprocess1,poly,model)\n",
    "scores = cross_val_score(regr, n, y_train,cv=5)\n",
    "print(scores)\n",
    "np.mean(scores)"
   ]
  },
  {
   "cell_type": "markdown",
   "metadata": {},
   "source": [
    "TRIED LIGHT GBM WITHOUT POLYNOMIAL FEATURES"
   ]
  },
  {
   "cell_type": "code",
   "execution_count": 55,
   "metadata": {},
   "outputs": [
    {
     "name": "stdout",
     "output_type": "stream",
     "text": [
      "[-0.01920817  0.15778394  0.23725284  0.18355505  0.01691208]\n"
     ]
    },
    {
     "data": {
      "text/plain": [
       "0.11525914750898125"
      ]
     },
     "execution_count": 55,
     "metadata": {},
     "output_type": "execute_result"
    }
   ],
   "source": [
    "model = lgb.LGBMRegressor(objective='regression',\n",
    "                              learning_rate=0.05)\n",
    "regr = make_pipeline(preprocess1,model)\n",
    "scores = cross_val_score(regr, n, y_train,cv=5)\n",
    "print(scores)\n",
    "np.mean(scores)"
   ]
  },
  {
   "cell_type": "markdown",
   "metadata": {},
   "source": [
    "TRIED CATBOOST"
   ]
  },
  {
   "cell_type": "code",
   "execution_count": null,
   "metadata": {},
   "outputs": [],
   "source": [
    "from catboost import CatBoostRegressor\n",
    "\n",
    "model = CatBoostRegressor(iterations=50,learning_rate=0.5,\n",
    "                          depth=5)\n",
    "regr = make_pipeline(preprocess1,model)\n",
    "scores = cross_val_score(regr, n, y_train,cv=5)\n",
    "#print(scores)\n",
    "np.mean(scores)"
   ]
  },
  {
   "cell_type": "markdown",
   "metadata": {},
   "source": [
    "0.7550199588626801"
   ]
  },
  {
   "cell_type": "markdown",
   "metadata": {},
   "source": [
    "OF ALL THE MODELS TRIED, CATBOOST GAVE THE BEST RESULTS HENCE WE MOVED AHEAD WITH THIS MODEL."
   ]
  },
  {
   "cell_type": "markdown",
   "metadata": {},
   "source": [
    "GRIDCV CATBOOST FOR THE PARAMETERS: LEARNING RATE, MAX DEPTH, ITERATIONS"
   ]
  },
  {
   "cell_type": "code",
   "execution_count": null,
   "metadata": {},
   "outputs": [],
   "source": [
    "model = CatBoostRegressor()\n",
    "regr = make_pipeline(preprocess1,model)\n",
    "params = {\n",
    "       'catboostregressor__learning_rate' : [0.8,0.7,0.5],\n",
    "       'catboostregressor__max_depth': [5,7,9,10],\n",
    "    'catboostregressor__iterations' : [10,30,50]\n",
    "       }\n",
    "from sklearn.model_selection import GridSearchCV\n",
    "grid2 = GridSearchCV(regr, param_grid= params,\n",
    "                   cv=5, return_train_score=True)\n",
    "grid2.fit(n, y_train)\n",
    "print(\"best mean cross-validation score: {:.3f}\".format(grid2.best_score_))\n",
    "print(\"best parameters: {}\".format(grid2.best_params_))"
   ]
  },
  {
   "cell_type": "markdown",
   "metadata": {},
   "source": [
    "best mean cross-validation score: 0.794\n",
    "    \n",
    "best parameters: {'catboostregressor__iterations': 10, 'catboostregressor__learning_rate': 0.7, 'catboostregressor__max_depth': 5}"
   ]
  },
  {
   "cell_type": "markdown",
   "metadata": {},
   "source": [
    "CHECKING SCORE ON TEST DATA WITH BEST PARAMETERS FOUND USING GRID CV"
   ]
  },
  {
   "cell_type": "code",
   "execution_count": 68,
   "metadata": {},
   "outputs": [],
   "source": [
    "ntest=pd.DataFrame(te.transform(X_test),columns=colname)\n",
    "# ntest\n",
    "# grid2.best_estimator_.score(ntest, y_test)"
   ]
  },
  {
   "cell_type": "code",
   "execution_count": 70,
   "metadata": {},
   "outputs": [
    {
     "name": "stdout",
     "output_type": "stream",
     "text": [
      "0:\tlearn: 113087.9234711\ttotal: 60.2ms\tremaining: 542ms\n",
      "1:\tlearn: 76557.4157396\ttotal: 124ms\tremaining: 497ms\n",
      "2:\tlearn: 59821.4691849\ttotal: 184ms\tremaining: 430ms\n",
      "3:\tlearn: 54503.5787446\ttotal: 240ms\tremaining: 359ms\n",
      "4:\tlearn: 53028.6288041\ttotal: 307ms\tremaining: 307ms\n",
      "5:\tlearn: 51951.7509921\ttotal: 372ms\tremaining: 248ms\n",
      "6:\tlearn: 50357.8122227\ttotal: 438ms\tremaining: 188ms\n",
      "7:\tlearn: 50227.0818791\ttotal: 526ms\tremaining: 131ms\n",
      "8:\tlearn: 49411.8398381\ttotal: 605ms\tremaining: 67.2ms\n",
      "9:\tlearn: 47803.0111067\ttotal: 682ms\tremaining: 0us\n"
     ]
    },
    {
     "data": {
      "text/plain": [
       "0.1853070146130038"
      ]
     },
     "execution_count": 70,
     "metadata": {},
     "output_type": "execute_result"
    }
   ],
   "source": [
    "regr.fit(n,y_train)\n",
    "regr.score(ntest,y_test)"
   ]
  },
  {
   "cell_type": "markdown",
   "metadata": {},
   "source": [
    "# TASK 5"
   ]
  },
  {
   "cell_type": "markdown",
   "metadata": {},
   "source": [
    "prepocessing again stepwise to get the column names correctly"
   ]
  },
  {
   "cell_type": "code",
   "execution_count": 169,
   "metadata": {},
   "outputs": [],
   "source": [
    "preprocess2 = make_column_transformer(\n",
    "    (TargetEncoder(),['model','region']),\n",
    "    (OneHotEncoder(handle_unknown='ignore',sparse=False),['manufacturer', 'condition', 'cylinders', 'fuel', 'title_status', 'transmission', 'drive', 'size', 'type', 'paint_color', 'state']))"
   ]
  },
  {
   "cell_type": "code",
   "execution_count": 211,
   "metadata": {},
   "outputs": [],
   "source": [
    "te1=preprocess2.fit(n,y_train)"
   ]
  },
  {
   "cell_type": "code",
   "execution_count": 178,
   "metadata": {},
   "outputs": [],
   "source": [
    "n1=pd.DataFrame(te1.transform(n),columns=te1.get_feature_names())\n"
   ]
  },
  {
   "cell_type": "code",
   "execution_count": 174,
   "metadata": {},
   "outputs": [
    {
     "data": {
      "text/plain": [
       "['year', 'odometer', 'lat', 'long', 'namelen']"
      ]
     },
     "execution_count": 174,
     "metadata": {},
     "output_type": "execute_result"
    }
   ],
   "source": [
    "cnt"
   ]
  },
  {
   "cell_type": "code",
   "execution_count": 176,
   "metadata": {},
   "outputs": [],
   "source": [
    "n2=n[['year', 'odometer', 'lat', 'long', 'namelen']]"
   ]
  },
  {
   "cell_type": "code",
   "execution_count": 180,
   "metadata": {},
   "outputs": [
    {
     "data": {
      "text/html": [
       "<div>\n",
       "<style scoped>\n",
       "    .dataframe tbody tr th:only-of-type {\n",
       "        vertical-align: middle;\n",
       "    }\n",
       "\n",
       "    .dataframe tbody tr th {\n",
       "        vertical-align: top;\n",
       "    }\n",
       "\n",
       "    .dataframe thead th {\n",
       "        text-align: right;\n",
       "    }\n",
       "</style>\n",
       "<table border=\"1\" class=\"dataframe\">\n",
       "  <thead>\n",
       "    <tr style=\"text-align: right;\">\n",
       "      <th></th>\n",
       "      <th>targetencoder__model</th>\n",
       "      <th>targetencoder__region</th>\n",
       "      <th>onehotencoder__x0_acura</th>\n",
       "      <th>onehotencoder__x0_alfa-romeo</th>\n",
       "      <th>onehotencoder__x0_aston-martin</th>\n",
       "      <th>onehotencoder__x0_audi</th>\n",
       "      <th>onehotencoder__x0_bmw</th>\n",
       "      <th>onehotencoder__x0_buick</th>\n",
       "      <th>onehotencoder__x0_cadillac</th>\n",
       "      <th>onehotencoder__x0_chevrolet</th>\n",
       "      <th>...</th>\n",
       "      <th>onehotencoder__x10_vt</th>\n",
       "      <th>onehotencoder__x10_wa</th>\n",
       "      <th>onehotencoder__x10_wi</th>\n",
       "      <th>onehotencoder__x10_wv</th>\n",
       "      <th>onehotencoder__x10_wy</th>\n",
       "      <th>year</th>\n",
       "      <th>odometer</th>\n",
       "      <th>lat</th>\n",
       "      <th>long</th>\n",
       "      <th>namelen</th>\n",
       "    </tr>\n",
       "  </thead>\n",
       "  <tbody>\n",
       "    <tr>\n",
       "      <th>0</th>\n",
       "      <td>19058.642857</td>\n",
       "      <td>11204.822894</td>\n",
       "      <td>0.0</td>\n",
       "      <td>0.0</td>\n",
       "      <td>0.0</td>\n",
       "      <td>0.0</td>\n",
       "      <td>0.0</td>\n",
       "      <td>0.0</td>\n",
       "      <td>0.0</td>\n",
       "      <td>0.0</td>\n",
       "      <td>...</td>\n",
       "      <td>0.0</td>\n",
       "      <td>0.0</td>\n",
       "      <td>0.0</td>\n",
       "      <td>0.0</td>\n",
       "      <td>0.0</td>\n",
       "      <td>0.955087</td>\n",
       "      <td>-0.440928</td>\n",
       "      <td>-0.810844</td>\n",
       "      <td>0.549958</td>\n",
       "      <td>0.430431</td>\n",
       "    </tr>\n",
       "    <tr>\n",
       "      <th>1</th>\n",
       "      <td>5005.902712</td>\n",
       "      <td>15629.376101</td>\n",
       "      <td>0.0</td>\n",
       "      <td>0.0</td>\n",
       "      <td>0.0</td>\n",
       "      <td>0.0</td>\n",
       "      <td>0.0</td>\n",
       "      <td>0.0</td>\n",
       "      <td>0.0</td>\n",
       "      <td>0.0</td>\n",
       "      <td>...</td>\n",
       "      <td>0.0</td>\n",
       "      <td>0.0</td>\n",
       "      <td>0.0</td>\n",
       "      <td>0.0</td>\n",
       "      <td>0.0</td>\n",
       "      <td>-1.16038</td>\n",
       "      <td>3.46551e-16</td>\n",
       "      <td>-0.340363</td>\n",
       "      <td>-1.45587</td>\n",
       "      <td>-0.820437</td>\n",
       "    </tr>\n",
       "    <tr>\n",
       "      <th>2</th>\n",
       "      <td>29889.655172</td>\n",
       "      <td>15396.357834</td>\n",
       "      <td>0.0</td>\n",
       "      <td>0.0</td>\n",
       "      <td>0.0</td>\n",
       "      <td>0.0</td>\n",
       "      <td>0.0</td>\n",
       "      <td>0.0</td>\n",
       "      <td>0.0</td>\n",
       "      <td>0.0</td>\n",
       "      <td>...</td>\n",
       "      <td>0.0</td>\n",
       "      <td>0.0</td>\n",
       "      <td>0.0</td>\n",
       "      <td>0.0</td>\n",
       "      <td>0.0</td>\n",
       "      <td>1.11782</td>\n",
       "      <td>-1.03601</td>\n",
       "      <td>-0.773146</td>\n",
       "      <td>0.743882</td>\n",
       "      <td>0.549721</td>\n",
       "    </tr>\n",
       "    <tr>\n",
       "      <th>3</th>\n",
       "      <td>3033.293939</td>\n",
       "      <td>8652.810680</td>\n",
       "      <td>0.0</td>\n",
       "      <td>0.0</td>\n",
       "      <td>0.0</td>\n",
       "      <td>0.0</td>\n",
       "      <td>0.0</td>\n",
       "      <td>0.0</td>\n",
       "      <td>0.0</td>\n",
       "      <td>0.0</td>\n",
       "      <td>...</td>\n",
       "      <td>0.0</td>\n",
       "      <td>0.0</td>\n",
       "      <td>0.0</td>\n",
       "      <td>0.0</td>\n",
       "      <td>0.0</td>\n",
       "      <td>-0.672197</td>\n",
       "      <td>0.864362</td>\n",
       "      <td>0.853347</td>\n",
       "      <td>0.646186</td>\n",
       "      <td>-0.847362</td>\n",
       "    </tr>\n",
       "    <tr>\n",
       "      <th>4</th>\n",
       "      <td>15180.149125</td>\n",
       "      <td>13049.536622</td>\n",
       "      <td>0.0</td>\n",
       "      <td>0.0</td>\n",
       "      <td>0.0</td>\n",
       "      <td>0.0</td>\n",
       "      <td>0.0</td>\n",
       "      <td>0.0</td>\n",
       "      <td>0.0</td>\n",
       "      <td>1.0</td>\n",
       "      <td>...</td>\n",
       "      <td>0.0</td>\n",
       "      <td>0.0</td>\n",
       "      <td>0.0</td>\n",
       "      <td>0.0</td>\n",
       "      <td>0.0</td>\n",
       "      <td>-0.0212835</td>\n",
       "      <td>0.461297</td>\n",
       "      <td>0.323009</td>\n",
       "      <td>0.41496</td>\n",
       "      <td>-0.55381</td>\n",
       "    </tr>\n",
       "  </tbody>\n",
       "</table>\n",
       "<p>5 rows × 166 columns</p>\n",
       "</div>"
      ],
      "text/plain": [
       "   targetencoder__model  targetencoder__region  onehotencoder__x0_acura  \\\n",
       "0          19058.642857           11204.822894                      0.0   \n",
       "1           5005.902712           15629.376101                      0.0   \n",
       "2          29889.655172           15396.357834                      0.0   \n",
       "3           3033.293939            8652.810680                      0.0   \n",
       "4          15180.149125           13049.536622                      0.0   \n",
       "\n",
       "   onehotencoder__x0_alfa-romeo  onehotencoder__x0_aston-martin  \\\n",
       "0                           0.0                             0.0   \n",
       "1                           0.0                             0.0   \n",
       "2                           0.0                             0.0   \n",
       "3                           0.0                             0.0   \n",
       "4                           0.0                             0.0   \n",
       "\n",
       "   onehotencoder__x0_audi  onehotencoder__x0_bmw  onehotencoder__x0_buick  \\\n",
       "0                     0.0                    0.0                      0.0   \n",
       "1                     0.0                    0.0                      0.0   \n",
       "2                     0.0                    0.0                      0.0   \n",
       "3                     0.0                    0.0                      0.0   \n",
       "4                     0.0                    0.0                      0.0   \n",
       "\n",
       "   onehotencoder__x0_cadillac  onehotencoder__x0_chevrolet  ...  \\\n",
       "0                         0.0                          0.0  ...   \n",
       "1                         0.0                          0.0  ...   \n",
       "2                         0.0                          0.0  ...   \n",
       "3                         0.0                          0.0  ...   \n",
       "4                         0.0                          1.0  ...   \n",
       "\n",
       "   onehotencoder__x10_vt  onehotencoder__x10_wa  onehotencoder__x10_wi  \\\n",
       "0                    0.0                    0.0                    0.0   \n",
       "1                    0.0                    0.0                    0.0   \n",
       "2                    0.0                    0.0                    0.0   \n",
       "3                    0.0                    0.0                    0.0   \n",
       "4                    0.0                    0.0                    0.0   \n",
       "\n",
       "   onehotencoder__x10_wv  onehotencoder__x10_wy       year     odometer  \\\n",
       "0                    0.0                    0.0   0.955087    -0.440928   \n",
       "1                    0.0                    0.0   -1.16038  3.46551e-16   \n",
       "2                    0.0                    0.0    1.11782     -1.03601   \n",
       "3                    0.0                    0.0  -0.672197     0.864362   \n",
       "4                    0.0                    0.0 -0.0212835     0.461297   \n",
       "\n",
       "        lat      long   namelen  \n",
       "0 -0.810844  0.549958  0.430431  \n",
       "1 -0.340363  -1.45587 -0.820437  \n",
       "2 -0.773146  0.743882  0.549721  \n",
       "3  0.853347  0.646186 -0.847362  \n",
       "4  0.323009   0.41496  -0.55381  \n",
       "\n",
       "[5 rows x 166 columns]"
      ]
     },
     "execution_count": 180,
     "metadata": {},
     "output_type": "execute_result"
    }
   ],
   "source": [
    "n3=pd.concat([n1,n2],axis=1)\n",
    "n3.head()"
   ]
  },
  {
   "cell_type": "code",
   "execution_count": 83,
   "metadata": {},
   "outputs": [
    {
     "name": "stdout",
     "output_type": "stream",
     "text": [
      "0:\tlearn: 113087.9234711\ttotal: 63.4ms\tremaining: 571ms\n",
      "1:\tlearn: 76557.4157396\ttotal: 163ms\tremaining: 651ms\n",
      "2:\tlearn: 59821.4691849\ttotal: 244ms\tremaining: 570ms\n",
      "3:\tlearn: 54503.5787446\ttotal: 325ms\tremaining: 487ms\n",
      "4:\tlearn: 53028.6288041\ttotal: 395ms\tremaining: 395ms\n",
      "5:\tlearn: 51951.7509921\ttotal: 446ms\tremaining: 298ms\n",
      "6:\tlearn: 50357.8122227\ttotal: 553ms\tremaining: 237ms\n",
      "7:\tlearn: 50227.0818791\ttotal: 643ms\tremaining: 161ms\n",
      "8:\tlearn: 49411.8398381\ttotal: 707ms\tremaining: 78.5ms\n",
      "9:\tlearn: 47803.0111067\ttotal: 805ms\tremaining: 0us\n"
     ]
    },
    {
     "data": {
      "text/plain": [
       "<catboost.core.CatBoostRegressor at 0x1b71ede66d8>"
      ]
     },
     "execution_count": 83,
     "metadata": {},
     "output_type": "execute_result"
    }
   ],
   "source": [
    "model = CatBoostRegressor(iterations=10,learning_rate=0.7,\n",
    "                          depth=5)\n",
    "model.fit(n3,y_train)"
   ]
  },
  {
   "cell_type": "code",
   "execution_count": 84,
   "metadata": {},
   "outputs": [],
   "source": [
    "l=model.get_feature_importance()\n",
    "c=n3.columns"
   ]
  },
  {
   "cell_type": "code",
   "execution_count": 85,
   "metadata": {},
   "outputs": [],
   "source": [
    "feature_score = pd.DataFrame(list(zip(c,l)),columns=['Feature','Score'])\n",
    "\n",
    "feature_score = feature_score.sort_values(by='Score', ascending=False, inplace=False, kind='quicksort', na_position='last')"
   ]
  },
  {
   "cell_type": "code",
   "execution_count": 86,
   "metadata": {},
   "outputs": [],
   "source": [
    "feature_score = feature_score.reset_index(drop=True)\n",
    "\n",
    "a=feature_score.head(n=18)"
   ]
  },
  {
   "cell_type": "markdown",
   "metadata": {},
   "source": [
    "Selected top 18 features "
   ]
  },
  {
   "cell_type": "code",
   "execution_count": 87,
   "metadata": {
    "scrolled": false
   },
   "outputs": [
    {
     "data": {
      "image/png": "[encoded data removed]",
      "text/plain": [
       "<Figure size 864x504 with 1 Axes>"
      ]
     },
     "metadata": {
      "needs_background": "light"
     },
     "output_type": "display_data"
    }
   ],
   "source": [
    "plt.rcParams[\"figure.figsize\"] = (12,7)\n",
    "ax = a.plot('Feature', 'Score', kind='bar', color='c')\n",
    "ax.set_title(\"Catboost Feature Importance Ranking\", fontsize = 14)\n",
    "ax.set_xlabel('')\n",
    "\n",
    "rects = ax.patches\n",
    "\n",
    "labels = a['Score'].round(3)\n",
    "\n",
    "for rect, label in zip(rects, labels):\n",
    "    height = rect.get_height()\n",
    "    ax.text(rect.get_x() + rect.get_width()/2, height + 0.35, label, ha='center', va='bottom')\n",
    "\n",
    "plt.show()"
   ]
  },
  {
   "cell_type": "markdown",
   "metadata": {},
   "source": [
    "For each feature the value shows how much on average the prediction changes if the feature value changes."
   ]
  },
  {
   "cell_type": "code",
   "execution_count": 93,
   "metadata": {},
   "outputs": [
    {
     "data": {
      "text/plain": [
       "['targetencoder__region',\n",
       " 'namelen',\n",
       " 'onehotencoder__x1_excellent',\n",
       " 'targetencoder__model',\n",
       " 'onehotencoder__x2_8 cylinders',\n",
       " 'odometer',\n",
       " 'year',\n",
       " 'onehotencoder__x10_oh',\n",
       " 'onehotencoder__x6_4wd',\n",
       " 'onehotencoder__x8_truck',\n",
       " 'onehotencoder__x0_chevrolet',\n",
       " 'onehotencoder__x1_not_available',\n",
       " 'onehotencoder__x6_not_available',\n",
       " 'onehotencoder__x3_diesel',\n",
       " 'onehotencoder__x2_4 cylinders',\n",
       " 'onehotencoder__x10_ct',\n",
       " 'onehotencoder__x6_rwd',\n",
       " 'lat']"
      ]
     },
     "execution_count": 93,
     "metadata": {},
     "output_type": "execute_result"
    }
   ],
   "source": [
    "cols = list(a['Feature'])\n",
    "cols"
   ]
  },
  {
   "cell_type": "code",
   "execution_count": 94,
   "metadata": {},
   "outputs": [
    {
     "name": "stdout",
     "output_type": "stream",
     "text": [
      "0:\tlearn: 108135.5837624\ttotal: 53.3ms\tremaining: 479ms\n",
      "1:\tlearn: 72567.9228464\ttotal: 112ms\tremaining: 447ms\n",
      "2:\tlearn: 58860.8683567\ttotal: 164ms\tremaining: 382ms\n",
      "3:\tlearn: 53225.3558921\ttotal: 231ms\tremaining: 347ms\n",
      "4:\tlearn: 51715.6634852\ttotal: 287ms\tremaining: 287ms\n",
      "5:\tlearn: 51479.0650161\ttotal: 341ms\tremaining: 227ms\n",
      "6:\tlearn: 48196.9380209\ttotal: 390ms\tremaining: 167ms\n",
      "7:\tlearn: 47097.8946857\ttotal: 495ms\tremaining: 124ms\n",
      "8:\tlearn: 45398.3377033\ttotal: 573ms\tremaining: 63.7ms\n",
      "9:\tlearn: 45078.4663912\ttotal: 627ms\tremaining: 0us\n"
     ]
    },
    {
     "data": {
      "text/plain": [
       "<catboost.core.CatBoostRegressor at 0x1b71f6e8438>"
      ]
     },
     "execution_count": 94,
     "metadata": {},
     "output_type": "execute_result"
    }
   ],
   "source": [
    "newdf=n3[['targetencoder__region',\n",
    " 'namelen',\n",
    " 'onehotencoder__x1_excellent',\n",
    " 'targetencoder__model',\n",
    " 'onehotencoder__x2_8 cylinders',\n",
    " 'odometer',\n",
    " 'year',\n",
    " 'onehotencoder__x10_oh',\n",
    " 'onehotencoder__x6_4wd',\n",
    " 'onehotencoder__x8_truck',\n",
    " 'onehotencoder__x0_chevrolet',\n",
    " 'onehotencoder__x1_not_available',\n",
    " 'onehotencoder__x6_not_available',\n",
    " 'onehotencoder__x3_diesel',\n",
    " 'onehotencoder__x2_4 cylinders',\n",
    " 'onehotencoder__x10_ct',\n",
    " 'onehotencoder__x6_rwd',\n",
    " 'lat']]\n",
    "model2 = CatBoostRegressor(iterations=10,learning_rate=0.7,\n",
    "                          depth=5)\n",
    "model2.fit(newdf,y_train)\n"
   ]
  },
  {
   "cell_type": "code",
   "execution_count": null,
   "metadata": {},
   "outputs": [],
   "source": [
    "scores = cross_val_score(model2, newdf, y_train,cv=5)\n",
    "np.mean(scores)"
   ]
  },
  {
   "cell_type": "markdown",
   "metadata": {},
   "source": [
    "0.7455575962574902"
   ]
  },
  {
   "cell_type": "code",
   "execution_count": 95,
   "metadata": {},
   "outputs": [
    {
     "data": {
      "text/plain": [
       "0.19426059555363184"
      ]
     },
     "execution_count": 95,
     "metadata": {},
     "output_type": "execute_result"
    }
   ],
   "source": [
    "newdf1=n3test[['targetencoder__region',\n",
    " 'namelen',\n",
    " 'onehotencoder__x1_excellent',\n",
    " 'targetencoder__model',\n",
    " 'onehotencoder__x2_8 cylinders',\n",
    " 'odometer',\n",
    " 'year',\n",
    " 'onehotencoder__x10_oh',\n",
    " 'onehotencoder__x6_4wd',\n",
    " 'onehotencoder__x8_truck',\n",
    " 'onehotencoder__x0_chevrolet',\n",
    " 'onehotencoder__x1_not_available',\n",
    " 'onehotencoder__x6_not_available',\n",
    " 'onehotencoder__x3_diesel',\n",
    " 'onehotencoder__x2_4 cylinders',\n",
    " 'onehotencoder__x10_ct',\n",
    " 'onehotencoder__x6_rwd',\n",
    " 'lat']]\n",
    "model2.score(newdf1,y_test)"
   ]
  },
  {
   "cell_type": "markdown",
   "metadata": {},
   "source": [
    "The score improved on test set when only important features were selected."
   ]
  },
  {
   "cell_type": "markdown",
   "metadata": {},
   "source": [
    "# TASK 6"
   ]
  },
  {
   "cell_type": "code",
   "execution_count": 103,
   "metadata": {},
   "outputs": [
    {
     "data": {
      "text/plain": [
       "Index(['region', 'price', 'year', 'manufacturer', 'model', 'condition',\n",
       "       'cylinders', 'fuel', 'odometer', 'title_status', 'transmission',\n",
       "       'drive', 'size', 'type', 'paint_color', 'state', 'lat', 'long',\n",
       "       'namelen'],\n",
       "      dtype='object')"
      ]
     },
     "execution_count": 103,
     "metadata": {},
     "output_type": "execute_result"
    }
   ],
   "source": [
    "finaldf.columns"
   ]
  },
  {
   "cell_type": "code",
   "execution_count": 142,
   "metadata": {},
   "outputs": [],
   "source": [
    "df2=finaldf[['region','namelen','model','condition','manufacturer','fuel','drive','cylinders','odometer','year','state','price','lat','long']]\n",
    "x=df2.drop(['price'],1)\n",
    "y=df2['price']"
   ]
  },
  {
   "cell_type": "code",
   "execution_count": 143,
   "metadata": {},
   "outputs": [],
   "source": [
    "x['condition'].fillna(value='not_available', inplace=True)\n",
    "x['cylinders'].fillna(value='not_available', inplace=True)\n",
    "x['drive'].fillna(value='not_available', inplace=True)"
   ]
  },
  {
   "cell_type": "code",
   "execution_count": 144,
   "metadata": {},
   "outputs": [
    {
     "data": {
      "text/plain": [
       "['namelen', 'odometer', 'year', 'lat', 'long']"
      ]
     },
     "execution_count": 144,
     "metadata": {},
     "output_type": "execute_result"
    }
   ],
   "source": [
    "cnt=list(x.columns[x.dtypes !=object])\n",
    "cnt"
   ]
  },
  {
   "cell_type": "code",
   "execution_count": 145,
   "metadata": {},
   "outputs": [
    {
     "name": "stdout",
     "output_type": "stream",
     "text": [
      "['manufacturer', 'model', 'fuel', 'namelen', 'odometer', 'year', 'lat', 'long', 'region', 'condition', 'drive', 'cylinders', 'state']\n"
     ]
    }
   ],
   "source": [
    "X_train, X_test, y_train, y_test = train_test_split(x, y,random_state=0,stratify=y_binned)\n",
    "cont_preprocessing = make_pipeline(\n",
    "    SimpleImputer(),StandardScaler())\n",
    "cat_remaining=['manufacturer','model','fuel']\n",
    "preprocess = make_column_transformer(\n",
    "    (SimpleImputer(strategy='most_frequent'),cat_remaining),\n",
    "    (cont_preprocessing,cnt),remainder='passthrough')\n",
    "colname=cat_remaining+cnt+['region','condition','drive','cylinders','state']\n",
    "print(colname)\n",
    "X_train = X_train.reset_index(drop=True)\n",
    "y_train = y_train.reset_index(drop=True)"
   ]
  },
  {
   "cell_type": "code",
   "execution_count": 146,
   "metadata": {},
   "outputs": [],
   "source": [
    "te1 =  preprocess.fit(X_train, y_train)"
   ]
  },
  {
   "cell_type": "code",
   "execution_count": null,
   "metadata": {},
   "outputs": [],
   "source": [
    "ne=pd.DataFrame(te1.transform(X_train),columns=colname)\n",
    "ne"
   ]
  },
  {
   "cell_type": "code",
   "execution_count": 148,
   "metadata": {},
   "outputs": [],
   "source": [
    "preprocess1 = make_column_transformer(\n",
    "    (TargetEncoder(),['model','region']),\n",
    "    (OneHotEncoder(handle_unknown='ignore',sparse=False),['manufacturer', 'condition', 'cylinders', 'fuel', 'drive','state']),\n",
    "    remainder='passthrough')"
   ]
  },
  {
   "cell_type": "code",
   "execution_count": null,
   "metadata": {},
   "outputs": [],
   "source": [
    "model2 = CatBoostRegressor(iterations=10,learning_rate=0.5,depth=5)\n",
    "regr = make_pipeline(preprocess1,model2)\n",
    "scores = cross_val_score(regr, ne, y_train,cv=5)\n",
    "np.mean(scores)"
   ]
  },
  {
   "cell_type": "markdown",
   "metadata": {},
   "source": [
    "0.7024953716455529"
   ]
  },
  {
   "cell_type": "code",
   "execution_count": null,
   "metadata": {},
   "outputs": [],
   "source": [
    "regr.fit(ne,y_train)"
   ]
  },
  {
   "cell_type": "code",
   "execution_count": 154,
   "metadata": {},
   "outputs": [
    {
     "data": {
      "text/plain": [
       "0.18556805198160997"
      ]
     },
     "execution_count": 154,
     "metadata": {},
     "output_type": "execute_result"
    }
   ],
   "source": [
    "n1=pd.DataFrame(te1.transform(X_test),columns=colname)\n",
    "regr.score(n1,y_test)"
   ]
  },
  {
   "cell_type": "code",
   "execution_count": 158,
   "metadata": {},
   "outputs": [
    {
     "data": {
      "text/plain": [
       "['namelen', 'odometer', 'year', 'lat', 'long']"
      ]
     },
     "execution_count": 158,
     "metadata": {},
     "output_type": "execute_result"
    }
   ],
   "source": [
    "preprocess2 = make_column_transformer(\n",
    "    (TargetEncoder(),['model','region']),\n",
    "    (OneHotEncoder(handle_unknown='ignore',sparse=False),['manufacturer', 'condition', 'cylinders', 'fuel', 'drive','state']))\n",
    "te1=preprocess2.fit(ne,y_train)\n",
    "n1=pd.DataFrame(te1.transform(ne),columns=te1.get_feature_names())\n",
    "cnt"
   ]
  },
  {
   "cell_type": "code",
   "execution_count": 159,
   "metadata": {},
   "outputs": [
    {
     "data": {
      "text/html": [
       "<div>\n",
       "<style scoped>\n",
       "    .dataframe tbody tr th:only-of-type {\n",
       "        vertical-align: middle;\n",
       "    }\n",
       "\n",
       "    .dataframe tbody tr th {\n",
       "        vertical-align: top;\n",
       "    }\n",
       "\n",
       "    .dataframe thead th {\n",
       "        text-align: right;\n",
       "    }\n",
       "</style>\n",
       "<table border=\"1\" class=\"dataframe\">\n",
       "  <thead>\n",
       "    <tr style=\"text-align: right;\">\n",
       "      <th></th>\n",
       "      <th>targetencoder__model</th>\n",
       "      <th>targetencoder__region</th>\n",
       "      <th>onehotencoder__x0_acura</th>\n",
       "      <th>onehotencoder__x0_alfa-romeo</th>\n",
       "      <th>onehotencoder__x0_aston-martin</th>\n",
       "      <th>onehotencoder__x0_audi</th>\n",
       "      <th>onehotencoder__x0_bmw</th>\n",
       "      <th>onehotencoder__x0_buick</th>\n",
       "      <th>onehotencoder__x0_cadillac</th>\n",
       "      <th>onehotencoder__x0_chevrolet</th>\n",
       "      <th>...</th>\n",
       "      <th>onehotencoder__x5_vt</th>\n",
       "      <th>onehotencoder__x5_wa</th>\n",
       "      <th>onehotencoder__x5_wi</th>\n",
       "      <th>onehotencoder__x5_wv</th>\n",
       "      <th>onehotencoder__x5_wy</th>\n",
       "      <th>namelen</th>\n",
       "      <th>odometer</th>\n",
       "      <th>year</th>\n",
       "      <th>lat</th>\n",
       "      <th>long</th>\n",
       "    </tr>\n",
       "  </thead>\n",
       "  <tbody>\n",
       "    <tr>\n",
       "      <th>0</th>\n",
       "      <td>19058.642857</td>\n",
       "      <td>11204.822894</td>\n",
       "      <td>0.0</td>\n",
       "      <td>0.0</td>\n",
       "      <td>0.0</td>\n",
       "      <td>0.0</td>\n",
       "      <td>0.0</td>\n",
       "      <td>0.0</td>\n",
       "      <td>0.0</td>\n",
       "      <td>0.0</td>\n",
       "      <td>...</td>\n",
       "      <td>0.0</td>\n",
       "      <td>0.0</td>\n",
       "      <td>0.0</td>\n",
       "      <td>0.0</td>\n",
       "      <td>0.0</td>\n",
       "      <td>0.430431</td>\n",
       "      <td>-0.440928</td>\n",
       "      <td>0.955087</td>\n",
       "      <td>-0.810844</td>\n",
       "      <td>0.549958</td>\n",
       "    </tr>\n",
       "    <tr>\n",
       "      <th>1</th>\n",
       "      <td>5005.902712</td>\n",
       "      <td>15629.376101</td>\n",
       "      <td>0.0</td>\n",
       "      <td>0.0</td>\n",
       "      <td>0.0</td>\n",
       "      <td>0.0</td>\n",
       "      <td>0.0</td>\n",
       "      <td>0.0</td>\n",
       "      <td>0.0</td>\n",
       "      <td>0.0</td>\n",
       "      <td>...</td>\n",
       "      <td>0.0</td>\n",
       "      <td>0.0</td>\n",
       "      <td>0.0</td>\n",
       "      <td>0.0</td>\n",
       "      <td>0.0</td>\n",
       "      <td>-0.820437</td>\n",
       "      <td>3.46551e-16</td>\n",
       "      <td>-1.16038</td>\n",
       "      <td>-0.340363</td>\n",
       "      <td>-1.45587</td>\n",
       "    </tr>\n",
       "    <tr>\n",
       "      <th>2</th>\n",
       "      <td>29889.655172</td>\n",
       "      <td>15396.357834</td>\n",
       "      <td>0.0</td>\n",
       "      <td>0.0</td>\n",
       "      <td>0.0</td>\n",
       "      <td>0.0</td>\n",
       "      <td>0.0</td>\n",
       "      <td>0.0</td>\n",
       "      <td>0.0</td>\n",
       "      <td>0.0</td>\n",
       "      <td>...</td>\n",
       "      <td>0.0</td>\n",
       "      <td>0.0</td>\n",
       "      <td>0.0</td>\n",
       "      <td>0.0</td>\n",
       "      <td>0.0</td>\n",
       "      <td>0.549721</td>\n",
       "      <td>-1.03601</td>\n",
       "      <td>1.11782</td>\n",
       "      <td>-0.773146</td>\n",
       "      <td>0.743882</td>\n",
       "    </tr>\n",
       "    <tr>\n",
       "      <th>3</th>\n",
       "      <td>3033.293939</td>\n",
       "      <td>8652.810680</td>\n",
       "      <td>0.0</td>\n",
       "      <td>0.0</td>\n",
       "      <td>0.0</td>\n",
       "      <td>0.0</td>\n",
       "      <td>0.0</td>\n",
       "      <td>0.0</td>\n",
       "      <td>0.0</td>\n",
       "      <td>0.0</td>\n",
       "      <td>...</td>\n",
       "      <td>0.0</td>\n",
       "      <td>0.0</td>\n",
       "      <td>0.0</td>\n",
       "      <td>0.0</td>\n",
       "      <td>0.0</td>\n",
       "      <td>-0.847362</td>\n",
       "      <td>0.864362</td>\n",
       "      <td>-0.672197</td>\n",
       "      <td>0.853347</td>\n",
       "      <td>0.646186</td>\n",
       "    </tr>\n",
       "    <tr>\n",
       "      <th>4</th>\n",
       "      <td>15180.149125</td>\n",
       "      <td>13049.536622</td>\n",
       "      <td>0.0</td>\n",
       "      <td>0.0</td>\n",
       "      <td>0.0</td>\n",
       "      <td>0.0</td>\n",
       "      <td>0.0</td>\n",
       "      <td>0.0</td>\n",
       "      <td>0.0</td>\n",
       "      <td>1.0</td>\n",
       "      <td>...</td>\n",
       "      <td>0.0</td>\n",
       "      <td>0.0</td>\n",
       "      <td>0.0</td>\n",
       "      <td>0.0</td>\n",
       "      <td>0.0</td>\n",
       "      <td>-0.55381</td>\n",
       "      <td>0.461297</td>\n",
       "      <td>-0.0212835</td>\n",
       "      <td>0.323009</td>\n",
       "      <td>0.41496</td>\n",
       "    </tr>\n",
       "  </tbody>\n",
       "</table>\n",
       "<p>5 rows × 125 columns</p>\n",
       "</div>"
      ],
      "text/plain": [
       "   targetencoder__model  targetencoder__region  onehotencoder__x0_acura  \\\n",
       "0          19058.642857           11204.822894                      0.0   \n",
       "1           5005.902712           15629.376101                      0.0   \n",
       "2          29889.655172           15396.357834                      0.0   \n",
       "3           3033.293939            8652.810680                      0.0   \n",
       "4          15180.149125           13049.536622                      0.0   \n",
       "\n",
       "   onehotencoder__x0_alfa-romeo  onehotencoder__x0_aston-martin  \\\n",
       "0                           0.0                             0.0   \n",
       "1                           0.0                             0.0   \n",
       "2                           0.0                             0.0   \n",
       "3                           0.0                             0.0   \n",
       "4                           0.0                             0.0   \n",
       "\n",
       "   onehotencoder__x0_audi  onehotencoder__x0_bmw  onehotencoder__x0_buick  \\\n",
       "0                     0.0                    0.0                      0.0   \n",
       "1                     0.0                    0.0                      0.0   \n",
       "2                     0.0                    0.0                      0.0   \n",
       "3                     0.0                    0.0                      0.0   \n",
       "4                     0.0                    0.0                      0.0   \n",
       "\n",
       "   onehotencoder__x0_cadillac  onehotencoder__x0_chevrolet  ...  \\\n",
       "0                         0.0                          0.0  ...   \n",
       "1                         0.0                          0.0  ...   \n",
       "2                         0.0                          0.0  ...   \n",
       "3                         0.0                          0.0  ...   \n",
       "4                         0.0                          1.0  ...   \n",
       "\n",
       "   onehotencoder__x5_vt  onehotencoder__x5_wa  onehotencoder__x5_wi  \\\n",
       "0                   0.0                   0.0                   0.0   \n",
       "1                   0.0                   0.0                   0.0   \n",
       "2                   0.0                   0.0                   0.0   \n",
       "3                   0.0                   0.0                   0.0   \n",
       "4                   0.0                   0.0                   0.0   \n",
       "\n",
       "   onehotencoder__x5_wv  onehotencoder__x5_wy   namelen     odometer  \\\n",
       "0                   0.0                   0.0  0.430431    -0.440928   \n",
       "1                   0.0                   0.0 -0.820437  3.46551e-16   \n",
       "2                   0.0                   0.0  0.549721     -1.03601   \n",
       "3                   0.0                   0.0 -0.847362     0.864362   \n",
       "4                   0.0                   0.0  -0.55381     0.461297   \n",
       "\n",
       "        year       lat      long  \n",
       "0   0.955087 -0.810844  0.549958  \n",
       "1   -1.16038 -0.340363  -1.45587  \n",
       "2    1.11782 -0.773146  0.743882  \n",
       "3  -0.672197  0.853347  0.646186  \n",
       "4 -0.0212835  0.323009   0.41496  \n",
       "\n",
       "[5 rows x 125 columns]"
      ]
     },
     "execution_count": 159,
     "metadata": {},
     "output_type": "execute_result"
    }
   ],
   "source": [
    "n2=n[['namelen', 'odometer', 'year', 'lat', 'long']]\n",
    "n3=pd.concat([n1,n2],axis=1)\n",
    "n3.head()"
   ]
  },
  {
   "cell_type": "code",
   "execution_count": 160,
   "metadata": {},
   "outputs": [
    {
     "name": "stdout",
     "output_type": "stream",
     "text": [
      "0:\tlearn: 108134.6686404\ttotal: 70ms\tremaining: 630ms\n",
      "1:\tlearn: 72943.7748968\ttotal: 122ms\tremaining: 489ms\n",
      "2:\tlearn: 59229.5517630\ttotal: 223ms\tremaining: 521ms\n",
      "3:\tlearn: 53427.7249517\ttotal: 274ms\tremaining: 412ms\n",
      "4:\tlearn: 52815.7557110\ttotal: 341ms\tremaining: 341ms\n",
      "5:\tlearn: 51823.0260007\ttotal: 400ms\tremaining: 266ms\n",
      "6:\tlearn: 51181.4244791\ttotal: 481ms\tremaining: 206ms\n",
      "7:\tlearn: 49610.2178316\ttotal: 556ms\tremaining: 139ms\n",
      "8:\tlearn: 48110.1950769\ttotal: 640ms\tremaining: 71.1ms\n",
      "9:\tlearn: 45400.5396793\ttotal: 714ms\tremaining: 0us\n"
     ]
    },
    {
     "data": {
      "text/plain": [
       "<catboost.core.CatBoostRegressor at 0x1b7e6b2f668>"
      ]
     },
     "execution_count": 160,
     "metadata": {},
     "output_type": "execute_result"
    }
   ],
   "source": [
    "model = CatBoostRegressor(iterations=10,learning_rate=0.7,\n",
    "                          depth=5)\n",
    "model.fit(n3,y_train)"
   ]
  },
  {
   "cell_type": "code",
   "execution_count": 161,
   "metadata": {},
   "outputs": [],
   "source": [
    "l=model.get_feature_importance()\n",
    "c=n3.columns"
   ]
  },
  {
   "cell_type": "code",
   "execution_count": 162,
   "metadata": {},
   "outputs": [],
   "source": [
    "feature_score = pd.DataFrame(list(zip(c,l)),columns=['Feature','Score'])\n",
    "\n",
    "feature_score = feature_score.sort_values(by='Score', ascending=False, inplace=False, kind='quicksort', na_position='last')"
   ]
  },
  {
   "cell_type": "code",
   "execution_count": 165,
   "metadata": {},
   "outputs": [
    {
     "data": {
      "image/png": "[encoded data removed]",
      "text/plain": [
       "<Figure size 864x504 with 1 Axes>"
      ]
     },
     "metadata": {
      "needs_background": "light"
     },
     "output_type": "display_data"
    }
   ],
   "source": [
    "feature_score = feature_score.reset_index(drop=True)\n",
    "\n",
    "a=feature_score.head(n=13)\n",
    "plt.rcParams[\"figure.figsize\"] = (12,7)\n",
    "ax = a.plot('Feature', 'Score', kind='bar', color='c')\n",
    "ax.set_title(\"Catboost Feature Importance Ranking\", fontsize = 14)\n",
    "ax.set_xlabel('')\n",
    "\n",
    "rects = ax.patches\n",
    "\n",
    "labels = a['Score'].round(3)\n",
    "\n",
    "for rect, label in zip(rects, labels):\n",
    "    height = rect.get_height()\n",
    "    ax.text(rect.get_x() + rect.get_width()/2, height + 0.35, label, ha='center', va='bottom')\n",
    "\n",
    "plt.show()"
   ]
  },
  {
   "cell_type": "markdown",
   "metadata": {},
   "source": [
    "The above model has very few but important features esp region,namelen and vehicles in excellent condition that give a score close enough to the best model.\n",
    "As this model is already less complex, reducing the complexity by changing the parameter values or taking fewer features worsens the score. "
   ]
  },
  {
   "cell_type": "code",
   "execution_count": null,
   "metadata": {},
   "outputs": [],
   "source": []
  }
 ],
 "metadata": {
  "kernelspec": {
   "display_name": "Python 3",
   "language": "python",
   "name": "python3"
  },
  "language_info": {
   "codemirror_mode": {
    "name": "ipython",
    "version": 3
   },
   "file_extension": ".py",
   "mimetype": "text/x-python",
   "name": "python",
   "nbconvert_exporter": "python",
   "pygments_lexer": "ipython3",
   "version": "3.7.4"
  }
 },
 "nbformat": 4,
 "nbformat_minor": 4
}
